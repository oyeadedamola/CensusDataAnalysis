{
 "cells": [
  {
   "cell_type": "code",
   "execution_count": 1,
   "id": "da4ae35a",
   "metadata": {},
   "outputs": [],
   "source": [
    "import pandas as pd\n",
    "import csv\n",
    "import seaborn as sns\n",
    "import numpy as np\n",
    "import matplotlib.pyplot as plt\n",
    "import pandas_profiling as pf\n",
    "from pandas_profiling import ProfileReport \n",
    "from scipy.stats import mode\n",
    "%matplotlib inline\n",
    "from IPython import display"
   ]
  },
  {
   "cell_type": "code",
   "execution_count": 2,
   "id": "6ad4e9e0",
   "metadata": {},
   "outputs": [],
   "source": [
    "df = pd.read_csv('census_11-2.csv')"
   ]
  },
  {
   "cell_type": "code",
   "execution_count": 3,
   "id": "af1f296e",
   "metadata": {},
   "outputs": [
    {
     "data": {
      "application/vnd.jupyter.widget-view+json": {
       "model_id": "54c59464aac94943be275ced29a4336e",
       "version_major": 2,
       "version_minor": 0
      },
      "text/plain": [
       "Summarize dataset:   0%|          | 0/5 [00:00<?, ?it/s]"
      ]
     },
     "metadata": {},
     "output_type": "display_data"
    },
    {
     "data": {
      "application/vnd.jupyter.widget-view+json": {
       "model_id": "77598d4fd78e4f7492f08ee275df62f6",
       "version_major": 2,
       "version_minor": 0
      },
      "text/plain": [
       "Generate report structure:   0%|          | 0/1 [00:00<?, ?it/s]"
      ]
     },
     "metadata": {},
     "output_type": "display_data"
    },
    {
     "data": {
      "application/vnd.jupyter.widget-view+json": {
       "model_id": "015ab8fa06fb4c0bb46112cf0e4128f3",
       "version_major": 2,
       "version_minor": 0
      },
      "text/plain": [
       "Render HTML:   0%|          | 0/1 [00:00<?, ?it/s]"
      ]
     },
     "metadata": {},
     "output_type": "display_data"
    },
    {
     "data": {
      "application/vnd.jupyter.widget-view+json": {
       "model_id": "4a422015e9644cf583a1b9705a69908e",
       "version_major": 2,
       "version_minor": 0
      },
      "text/plain": [
       "Export report to file:   0%|          | 0/1 [00:00<?, ?it/s]"
      ]
     },
     "metadata": {},
     "output_type": "display_data"
    }
   ],
   "source": [
    "pf.ProfileReport(df).to_file('census_08_new.csv.html')"
   ]
  },
  {
   "cell_type": "code",
   "execution_count": 4,
   "id": "473d0dfe",
   "metadata": {},
   "outputs": [],
   "source": [
    "pd.set_option(\"display.max_rows\", None)\n",
    "pd.set_option('display.max_columns', None)"
   ]
  },
  {
   "cell_type": "code",
   "execution_count": 5,
   "id": "dc786fac",
   "metadata": {
    "scrolled": true
   },
   "outputs": [
    {
     "data": {
      "text/html": [
       "<div>\n",
       "<style scoped>\n",
       "    .dataframe tbody tr th:only-of-type {\n",
       "        vertical-align: middle;\n",
       "    }\n",
       "\n",
       "    .dataframe tbody tr th {\n",
       "        vertical-align: top;\n",
       "    }\n",
       "\n",
       "    .dataframe thead th {\n",
       "        text-align: right;\n",
       "    }\n",
       "</style>\n",
       "<table border=\"1\" class=\"dataframe\">\n",
       "  <thead>\n",
       "    <tr style=\"text-align: right;\">\n",
       "      <th></th>\n",
       "      <th>House Number</th>\n",
       "      <th>Street</th>\n",
       "      <th>First Name</th>\n",
       "      <th>Surname</th>\n",
       "      <th>Age</th>\n",
       "      <th>Relationship to Head of House</th>\n",
       "      <th>Marital Status</th>\n",
       "      <th>Gender</th>\n",
       "      <th>Occupation</th>\n",
       "      <th>Infirmity</th>\n",
       "      <th>Religion</th>\n",
       "    </tr>\n",
       "  </thead>\n",
       "  <tbody>\n",
       "    <tr>\n",
       "      <th>0</th>\n",
       "      <td>1</td>\n",
       "      <td>Leeds Lane</td>\n",
       "      <td>Sian</td>\n",
       "      <td>Wright</td>\n",
       "      <td>64</td>\n",
       "      <td>Head</td>\n",
       "      <td>Single</td>\n",
       "      <td>Female</td>\n",
       "      <td>Accountant, chartered certified</td>\n",
       "      <td>None</td>\n",
       "      <td>Catholic</td>\n",
       "    </tr>\n",
       "    <tr>\n",
       "      <th>1</th>\n",
       "      <td>1</td>\n",
       "      <td>Leeds Lane</td>\n",
       "      <td>Danielle</td>\n",
       "      <td>Dunn</td>\n",
       "      <td>37</td>\n",
       "      <td>None</td>\n",
       "      <td>Divorced</td>\n",
       "      <td>Female</td>\n",
       "      <td>Software engineer</td>\n",
       "      <td>None</td>\n",
       "      <td>None</td>\n",
       "    </tr>\n",
       "    <tr>\n",
       "      <th>2</th>\n",
       "      <td>1</td>\n",
       "      <td>Leeds Lane</td>\n",
       "      <td>Anthony</td>\n",
       "      <td>Thorpe</td>\n",
       "      <td>18</td>\n",
       "      <td>None</td>\n",
       "      <td>Single</td>\n",
       "      <td>Male</td>\n",
       "      <td>Student</td>\n",
       "      <td>None</td>\n",
       "      <td>NaN</td>\n",
       "    </tr>\n",
       "    <tr>\n",
       "      <th>3</th>\n",
       "      <td>2</td>\n",
       "      <td>Leeds Lane</td>\n",
       "      <td>Charlie</td>\n",
       "      <td>Cross</td>\n",
       "      <td>33</td>\n",
       "      <td>Head</td>\n",
       "      <td>Married</td>\n",
       "      <td>Male</td>\n",
       "      <td>Mental health nurse</td>\n",
       "      <td>None</td>\n",
       "      <td>Christian</td>\n",
       "    </tr>\n",
       "    <tr>\n",
       "      <th>4</th>\n",
       "      <td>2</td>\n",
       "      <td>Leeds Lane</td>\n",
       "      <td>Olivia</td>\n",
       "      <td>Cross</td>\n",
       "      <td>35</td>\n",
       "      <td>Wife</td>\n",
       "      <td>Married</td>\n",
       "      <td>Female</td>\n",
       "      <td>Secretary/administrator</td>\n",
       "      <td>None</td>\n",
       "      <td>Christian</td>\n",
       "    </tr>\n",
       "  </tbody>\n",
       "</table>\n",
       "</div>"
      ],
      "text/plain": [
       "  House Number      Street First Name Surname Age  \\\n",
       "0            1  Leeds Lane       Sian  Wright  64   \n",
       "1            1  Leeds Lane   Danielle    Dunn  37   \n",
       "2            1  Leeds Lane    Anthony  Thorpe  18   \n",
       "3            2  Leeds Lane    Charlie   Cross  33   \n",
       "4            2  Leeds Lane     Olivia   Cross  35   \n",
       "\n",
       "  Relationship to Head of House Marital Status  Gender  \\\n",
       "0                          Head         Single  Female   \n",
       "1                          None       Divorced  Female   \n",
       "2                          None         Single    Male   \n",
       "3                          Head        Married    Male   \n",
       "4                          Wife        Married  Female   \n",
       "\n",
       "                        Occupation Infirmity   Religion  \n",
       "0  Accountant, chartered certified      None   Catholic  \n",
       "1                Software engineer      None       None  \n",
       "2                          Student      None        NaN  \n",
       "3              Mental health nurse      None  Christian  \n",
       "4          Secretary/administrator      None  Christian  "
      ]
     },
     "execution_count": 5,
     "metadata": {},
     "output_type": "execute_result"
    }
   ],
   "source": [
    "df.head()"
   ]
  },
  {
   "cell_type": "code",
   "execution_count": 6,
   "id": "71147e9f",
   "metadata": {},
   "outputs": [
    {
     "data": {
      "text/plain": [
       "House Number                        3\n",
       "Street                              0\n",
       "First Name                          2\n",
       "Surname                             0\n",
       "Age                                 0\n",
       "Relationship to Head of House       0\n",
       "Marital Status                   1881\n",
       "Gender                              0\n",
       "Occupation                          0\n",
       "Infirmity                           0\n",
       "Religion                         1926\n",
       "dtype: int64"
      ]
     },
     "execution_count": 6,
     "metadata": {},
     "output_type": "execute_result"
    }
   ],
   "source": [
    "df.isnull().sum()"
   ]
  },
  {
   "cell_type": "markdown",
   "id": "e4945644",
   "metadata": {},
   "source": [
    "## Cleaning of \"House Number\" Column"
   ]
  },
  {
   "cell_type": "code",
   "execution_count": 7,
   "id": "a0a43f30",
   "metadata": {},
   "outputs": [
    {
     "data": {
      "text/plain": [
       "array(['1', '2', '3', '4', '5', '6', '7', '8', '9', '10', '11', '12',\n",
       "       '13', '14', '15', '16', '17', '18', '19', '20', '21', '22', '23',\n",
       "       '24', '25', '26', '27', '28', '29', '30', '31', '32', '33', '34',\n",
       "       '35', '36', '37', '38', '39', '40', '41', '42', '43', '44', '45',\n",
       "       '46', '47', '48', '49', '50', '51', '52', '53', '54', '55', '56',\n",
       "       '57', '58', '59', '60', '61', '62', '63', '64', '65', '66', '67',\n",
       "       '68', '69', '70', '71', '72', '73', '74', '75', '76', '77', nan,\n",
       "       '78', '79', '80', '81', '82', '83', '84', '85', '86', '87', '88',\n",
       "       '89', '90', '91', '92', '93', '94', '95', '96', '97', '98', '99',\n",
       "       '100', '101', '102', '103', '104', '105', '106', '107', '108',\n",
       "       '109', '110', '111', '112', '113', '114', '115', '116', '117',\n",
       "       '118', '119', '120', '121', '122', '123', '124', '125', '126',\n",
       "       '127', '128', '129', '130', '131', '132', '133', '134', '135',\n",
       "       '136', '137', '138', '139', '140', '141', '142', '143', '144',\n",
       "       '145', '146', '147', '148', '149', '150', '151', '152', '153',\n",
       "       '154', '155', '156', '157', '158', '159', '160', '161', '162',\n",
       "       '163', '164', '165', '166', '167', '168', '169', '170', '171',\n",
       "       '172', '173', '174', '175', '176', '177', '178', '179', '180',\n",
       "       '181', '182', '183', '184', '185', '186', '187', '188', '189',\n",
       "       '190', '191', '192', '193', '194', '195', '196', '197', '198',\n",
       "       '199', '200', '201', '202', '203', '204', '205', '206', '207',\n",
       "       '208', '209', '210', '211', '212', '213', '214', '215', '216',\n",
       "       '217', '218', '219', '220', '221', '222', '223', '224', '225',\n",
       "       '226', '227', '228', '229', '230', '231', '232', '233', 'Seventy',\n",
       "       'One Hundred and Seven'], dtype=object)"
      ]
     },
     "execution_count": 7,
     "metadata": {},
     "output_type": "execute_result"
    }
   ],
   "source": [
    "df['House Number'].unique()"
   ]
  },
  {
   "cell_type": "code",
   "execution_count": 8,
   "id": "03781103",
   "metadata": {},
   "outputs": [
    {
     "data": {
      "text/html": [
       "<div>\n",
       "<style scoped>\n",
       "    .dataframe tbody tr th:only-of-type {\n",
       "        vertical-align: middle;\n",
       "    }\n",
       "\n",
       "    .dataframe tbody tr th {\n",
       "        vertical-align: top;\n",
       "    }\n",
       "\n",
       "    .dataframe thead th {\n",
       "        text-align: right;\n",
       "    }\n",
       "</style>\n",
       "<table border=\"1\" class=\"dataframe\">\n",
       "  <thead>\n",
       "    <tr style=\"text-align: right;\">\n",
       "      <th></th>\n",
       "      <th>House Number</th>\n",
       "      <th>Street</th>\n",
       "      <th>First Name</th>\n",
       "      <th>Surname</th>\n",
       "      <th>Age</th>\n",
       "      <th>Relationship to Head of House</th>\n",
       "      <th>Marital Status</th>\n",
       "      <th>Gender</th>\n",
       "      <th>Occupation</th>\n",
       "      <th>Infirmity</th>\n",
       "      <th>Religion</th>\n",
       "    </tr>\n",
       "  </thead>\n",
       "  <tbody>\n",
       "    <tr>\n",
       "      <th>1553</th>\n",
       "      <td>NaN</td>\n",
       "      <td>Clarke Avenue</td>\n",
       "      <td>Jacob</td>\n",
       "      <td>Davies</td>\n",
       "      <td>71</td>\n",
       "      <td>Head</td>\n",
       "      <td>Widowed</td>\n",
       "      <td>Male</td>\n",
       "      <td>Retired Call centre manager</td>\n",
       "      <td>None</td>\n",
       "      <td>Christian</td>\n",
       "    </tr>\n",
       "    <tr>\n",
       "      <th>4785</th>\n",
       "      <td>NaN</td>\n",
       "      <td>Bank Lane</td>\n",
       "      <td>Richard</td>\n",
       "      <td>Webb</td>\n",
       "      <td>54</td>\n",
       "      <td>Head</td>\n",
       "      <td>Single</td>\n",
       "      <td>Male</td>\n",
       "      <td>Engineer, manufacturing systems</td>\n",
       "      <td>None</td>\n",
       "      <td>Christian</td>\n",
       "    </tr>\n",
       "    <tr>\n",
       "      <th>5843</th>\n",
       "      <td>NaN</td>\n",
       "      <td>Thames Lane</td>\n",
       "      <td>Robin</td>\n",
       "      <td>Smith</td>\n",
       "      <td>64</td>\n",
       "      <td>Head</td>\n",
       "      <td>Single</td>\n",
       "      <td>Male</td>\n",
       "      <td>Futures trader</td>\n",
       "      <td>None</td>\n",
       "      <td>Christian</td>\n",
       "    </tr>\n",
       "  </tbody>\n",
       "</table>\n",
       "</div>"
      ],
      "text/plain": [
       "     House Number         Street First Name Surname Age  \\\n",
       "1553          NaN  Clarke Avenue      Jacob  Davies  71   \n",
       "4785          NaN      Bank Lane    Richard    Webb  54   \n",
       "5843          NaN    Thames Lane      Robin   Smith  64   \n",
       "\n",
       "     Relationship to Head of House Marital Status Gender  \\\n",
       "1553                          Head        Widowed   Male   \n",
       "4785                          Head         Single   Male   \n",
       "5843                          Head         Single   Male   \n",
       "\n",
       "                           Occupation Infirmity   Religion  \n",
       "1553      Retired Call centre manager      None  Christian  \n",
       "4785  Engineer, manufacturing systems      None  Christian  \n",
       "5843                   Futures trader      None  Christian  "
      ]
     },
     "execution_count": 8,
     "metadata": {},
     "output_type": "execute_result"
    }
   ],
   "source": [
    "df[df['House Number'].isnull()]"
   ]
  },
  {
   "cell_type": "code",
   "execution_count": 9,
   "id": "c24e030d",
   "metadata": {},
   "outputs": [],
   "source": [
    "# Replacing data filled in wrong format\n",
    "\n",
    "df['House Number'] = df['House Number'].replace('Seventy', '70')\n",
    "df['House Number'] = df['House Number'].replace('One Hundred and Seven', '107')\n",
    "\n",
    "# I changed the null values to the next house number, because i discovered the house numbers are in ascending order\n",
    "df.iat[1553, 0] = '1'\n",
    "df.iat[5843, 0] = '21'\n",
    "df.iat[4785, 0] = '13'"
   ]
  },
  {
   "cell_type": "markdown",
   "id": "bdf2fc85",
   "metadata": {},
   "source": [
    "# Cleaning of Firstname Column"
   ]
  },
  {
   "cell_type": "code",
   "execution_count": 10,
   "id": "c42da1a6",
   "metadata": {},
   "outputs": [
    {
     "data": {
      "text/html": [
       "<div>\n",
       "<style scoped>\n",
       "    .dataframe tbody tr th:only-of-type {\n",
       "        vertical-align: middle;\n",
       "    }\n",
       "\n",
       "    .dataframe tbody tr th {\n",
       "        vertical-align: top;\n",
       "    }\n",
       "\n",
       "    .dataframe thead th {\n",
       "        text-align: right;\n",
       "    }\n",
       "</style>\n",
       "<table border=\"1\" class=\"dataframe\">\n",
       "  <thead>\n",
       "    <tr style=\"text-align: right;\">\n",
       "      <th></th>\n",
       "      <th>House Number</th>\n",
       "      <th>Street</th>\n",
       "      <th>First Name</th>\n",
       "      <th>Surname</th>\n",
       "      <th>Age</th>\n",
       "      <th>Relationship to Head of House</th>\n",
       "      <th>Marital Status</th>\n",
       "      <th>Gender</th>\n",
       "      <th>Occupation</th>\n",
       "      <th>Infirmity</th>\n",
       "      <th>Religion</th>\n",
       "    </tr>\n",
       "  </thead>\n",
       "  <tbody>\n",
       "    <tr>\n",
       "      <th>3522</th>\n",
       "      <td>138</td>\n",
       "      <td>Robinson Way</td>\n",
       "      <td>NaN</td>\n",
       "      <td>Stewart Chapman</td>\n",
       "      <td>25</td>\n",
       "      <td>Grandson</td>\n",
       "      <td>Single</td>\n",
       "      <td>Male</td>\n",
       "      <td>Animal technologist</td>\n",
       "      <td>None</td>\n",
       "      <td>None</td>\n",
       "    </tr>\n",
       "    <tr>\n",
       "      <th>7285</th>\n",
       "      <td>3</td>\n",
       "      <td>Grace Avenue</td>\n",
       "      <td>NaN</td>\n",
       "      <td>Claire Knowles-Hart</td>\n",
       "      <td>8</td>\n",
       "      <td>Neice</td>\n",
       "      <td>NaN</td>\n",
       "      <td>Female</td>\n",
       "      <td>Student</td>\n",
       "      <td>None</td>\n",
       "      <td>NaN</td>\n",
       "    </tr>\n",
       "  </tbody>\n",
       "</table>\n",
       "</div>"
      ],
      "text/plain": [
       "     House Number        Street First Name              Surname Age  \\\n",
       "3522          138  Robinson Way        NaN      Stewart Chapman  25   \n",
       "7285            3  Grace Avenue        NaN  Claire Knowles-Hart   8   \n",
       "\n",
       "     Relationship to Head of House Marital Status  Gender  \\\n",
       "3522                      Grandson         Single    Male   \n",
       "7285                         Neice            NaN  Female   \n",
       "\n",
       "               Occupation Infirmity Religion  \n",
       "3522  Animal technologist      None     None  \n",
       "7285              Student      None      NaN  "
      ]
     },
     "execution_count": 10,
     "metadata": {},
     "output_type": "execute_result"
    }
   ],
   "source": [
    "df[df['First Name'].isnull()]"
   ]
  },
  {
   "cell_type": "code",
   "execution_count": 11,
   "id": "74a0c2ef",
   "metadata": {},
   "outputs": [],
   "source": [
    "''' I dicovered there were two names in surmane row where null value existed in first name column, therefore I \n",
    "inferred there was error when inputing the data'''\n",
    "\n",
    "df.iat[3522, 2 ] = 'Stewart'\n",
    "df.iat[7285, 2] = 'Claire'"
   ]
  },
  {
   "cell_type": "markdown",
   "id": "076c8fa9",
   "metadata": {},
   "source": [
    "# Cleaning of Surname Column"
   ]
  },
  {
   "cell_type": "code",
   "execution_count": 12,
   "id": "5fdbb065",
   "metadata": {},
   "outputs": [
    {
     "data": {
      "text/plain": [
       "array(['Wright', 'Dunn', 'Thorpe', 'Cross', 'Hutchinson', 'Johnson',\n",
       "       'Wood', 'Taylor', 'Edwards', 'Elliott', 'Lane', 'Saunders',\n",
       "       'Bartlett', 'Holland', 'Davis', 'Jones', 'Reid', 'Baker',\n",
       "       'Alexander', 'Francis', 'Fletcher', 'Brown', 'Turner', 'Smith',\n",
       "       'Clayton-Turner', 'Hodgson', 'Green-Hodgson', 'Flynn', 'Shaw',\n",
       "       'Harris', 'Tucker', 'Young', 'Whitehead', 'Clark', 'Hall',\n",
       "       'Martin', 'Bates', 'Bennett', 'Lee', 'Clayton', 'Yates',\n",
       "       'Robinson', 'Parry', 'Williams', 'Lloyd', 'Little', 'Wilson',\n",
       "       'Russell', 'Wheeler', 'Barker', 'Bishop', 'Pearson', 'Ellis',\n",
       "       'Hammond', 'Reynolds', 'Wall', 'Ward', 'Conway', 'Gardner', 'Ali',\n",
       "       'Wilkinson', 'Roberts', 'Lewis', 'Holloway-Jones', 'Riley',\n",
       "       'Newton', 'Harding', 'Adams', 'Burton', 'Carr', 'Burrows', 'Iqbal',\n",
       "       'Cook', 'Hill', 'Lawrence', 'Matthews', 'Brooks', 'Richards',\n",
       "       'Sullivan', 'Thompson', 'Barton', 'Moore', 'Godfrey', 'Akhtar',\n",
       "       'Long', 'Steele', 'Foster', 'Phillips', 'Gray', 'Green', 'Dobson',\n",
       "       'Davies', 'Bradshaw', 'Mitchell', 'Ball', 'Smart', 'Atkinson',\n",
       "       'French', 'Warren', 'Hawkins', 'Cameron', 'Horton', 'Evans',\n",
       "       'Patel', 'Armstrong', 'Holt', 'Manning', 'Shah', 'Hughes',\n",
       "       'Hilton', 'Scott', 'Harrison', 'Palmer', 'Hussain-Yates', 'Tyler',\n",
       "       'Bradley', 'Bailey', 'West', 'Brady', 'Baldwin', 'McDonald',\n",
       "       'Cooke', 'Holmes', 'Brookes', 'Oliver', 'Ashton-James', 'Chapman',\n",
       "       'Thomas', 'King', 'Fisher', 'Barnes', 'Payne', 'Lucas',\n",
       "       'Mason-Wood', 'Fraser', 'Spencer', 'Briggs-Wheeler', 'Moss',\n",
       "       'Walters', 'Ahmed', 'Patterson', 'Lewis-Ahmed',\n",
       "       'Lawrence-Lewis-Ahmed', 'Cunningham', 'George', 'Shaw-Baker',\n",
       "       'Peters', 'Hooper', 'Humphreys', 'Bell', 'Abbott', 'Henry',\n",
       "       'Archer', 'Webb', 'Nicholson', 'Parker', 'Harvey', 'Davison',\n",
       "       'Morgan', 'Richardson', 'Carroll-Richardson', 'Fuller',\n",
       "       'Browne-Fuller', 'Howarth', \"O'Neill\", 'Price', 'Savage', 'Wade',\n",
       "       'Berry', 'Owens', 'Evans-Henry', 'Walker', 'Howard', 'Griffiths',\n",
       "       'Chan', 'Ross', 'Metcalfe', 'Mahmood', 'Middleton', 'White',\n",
       "       'Willis', 'James', 'Reeves', 'Nash', 'Murray', 'Gibson',\n",
       "       'Parkinson', 'Gregory', 'Schofield', 'Pearce', 'Quinn', \"O'Brien\",\n",
       "       'Cooper', 'Watts', 'Hardy', 'Benson', 'Davidson', 'Lawson',\n",
       "       'Lynch', 'Parker-Lynch', 'Holland-Parker-Lynch', 'Birch', 'Lyons',\n",
       "       'Bryant', 'Sharp', 'Ingram', 'Power', 'Moran', 'Jackson',\n",
       "       'Tomlinson', 'Arnold', \"O'Connor\", 'Pugh', 'Haynes',\n",
       "       'Jones-Haynes', 'Stone', 'Dawson', 'Glover', 'Newman', 'Woods',\n",
       "       'Hamilton', 'Miller', 'Douglas', 'Vincent', 'Fox', 'Field',\n",
       "       'Grant', 'Fowler', 'Morrison', 'Leach', 'Sutton', 'Thornton',\n",
       "       'Gough', 'Porter', 'Allen', 'Carpenter', 'Chandler', 'Swift',\n",
       "       'Page', 'Daly', 'Kay', 'Sanderson', 'Anderson', 'Hayes', 'Hunt',\n",
       "       'Griffin', 'Fitzgerald', 'Marshall', 'Mann', \"O'Donnell\", 'Rees',\n",
       "       'Bryan', 'Booth', 'Bird', 'Robson', 'Hussain', 'Mellor', 'Clarke',\n",
       "       'Griffiths-Doherty', 'Singh', 'Welch', 'Pritchard', 'Kerr',\n",
       "       'Shepherd', 'Cole', 'Connor', 'McKenzie', 'Kirk', 'Cox', 'Craig',\n",
       "       'Butler', 'Day', 'Carter', 'Hopkins', 'Jenkins', 'Rose', 'Farmer',\n",
       "       'Sharpe', 'Bond', 'Baxter', 'Begum', 'Lowe', 'Taylor-Robinson',\n",
       "       'Norris', 'Whittaker', 'Whittaker-Miller', 'Nolan', 'Hartley',\n",
       "       'Campbell', 'Sheppard', 'Holden', 'Bell-White', 'Perry', 'Heath',\n",
       "       'Martin-Ellis', 'Mills', 'Watson', 'Pratt', 'Charlton', 'Khan',\n",
       "       'Mistry', 'Morris', 'Chamberlain', 'Watkins', 'Hurst', 'Read',\n",
       "       'Barnett', 'Sims', 'Storey', 'Rowe', 'Robertson', 'Jennings',\n",
       "       'Wallace', 'Bruce', 'Murphy', 'Rice', 'Kaur', 'Thomson',\n",
       "       'Hill-Thomas', 'Stanley', 'Wallis', 'Byrne', 'Byrne-Bennett',\n",
       "       'Miah-Byrne-Bennett', 'Miles', 'Lord', ' ', 'Goodwin',\n",
       "       'Pritchard-Goodwin', 'Kelly', 'Flynn-Davis', 'Perkins', 'Coates',\n",
       "       'Burns', 'Mason', 'Kennedy', 'Hale', 'Houghton', 'Todd', 'May',\n",
       "       'Vaughan', 'Stephens', 'Doyle', 'Ryan', 'Noble', 'Taylor-Turner',\n",
       "       'Cartwright', 'Wood-Fisher', 'Ali-Wood-Fisher', 'Connolly',\n",
       "       'Allan', 'Hargreaves', 'Naylor', 'Reed', 'Gibbs', 'Webster-Cole',\n",
       "       'Ashton', 'Rogers', 'Preston', 'Harvey-Wilson', 'Parsons',\n",
       "       'Pickering', 'Knowles', 'Coleman', 'Cole-Williams', 'Collins',\n",
       "       'Rogers-Murphy', 'Owen', 'Sykes', 'Ward-Sykes', 'Simpson',\n",
       "       'Andrews', 'Stokes', 'Collier', 'Hope', 'Harris-Hope', 'Norton',\n",
       "       'Jarvis', 'Adams-Bibi', 'Dodd', 'Brennan', 'Howell', 'Stephenson',\n",
       "       'Harper', 'Williams-Walton', 'Hudson', 'McLean', 'Slater',\n",
       "       'Doyle-Nicholson', 'Smith-Doyle-Nicholson', 'Kent', 'Holloway',\n",
       "       'Hart', 'Donnelly', 'Bentley', 'Knight', 'Wong', 'Brown-Mills',\n",
       "       'Law', 'Andrews-Wood', 'Miah', 'Summers', 'Hanson', 'Freeman',\n",
       "       'Carey', 'Williamson', 'Hewitt', 'Stevenson', 'Dennis', 'Daniels',\n",
       "       'Bevan', 'Morton', 'Walsh', 'Coles', 'Dyer', 'Gilbert',\n",
       "       'Dunn-Watkins', 'Nicholls', 'Potter', 'Doherty', 'Short', 'Gill',\n",
       "       'Wilkins', 'Stewart', 'Hancock', 'Taylor-Martin', 'Kelly-Morris',\n",
       "       \"O'Sullivan\", 'North', 'Bibi', 'Fry', 'Walton', 'Butcher',\n",
       "       'Webster', 'Franklin', 'Clements', 'Burke', 'Leonard', 'Dale',\n",
       "       'Browne', 'Townsend', 'Johnston', 'John-Allen', 'Wells', 'Burgess',\n",
       "       'Poole', 'Hunter', 'Barrett', 'Watts-Evans', 'Morley',\n",
       "       'Potter-Jones', 'Owen-Potter-Jones', 'Lees', 'Barlow', 'Sanders',\n",
       "       'Myers', 'Stevens', 'Howells', 'Gould', 'Powell', 'Cooper-Powell',\n",
       "       'Parkin', 'Duncan', 'Riley-Taylor', 'Walsh-Ball', 'Banks',\n",
       "       'Phillips-Jackson', 'B', 'Kirby', 'Hayward', 'Warner', 'Waters',\n",
       "       'Frost', 'McCarthy', 'Arnold-Barnes', 'Higgins', 'Sutton-Roberts',\n",
       "       'Pope', 'Peacock', 'Chadwick', 'Payne-Fowler', 'Weston', 'Marsh',\n",
       "       'Brown-Rogers', 'Smith-Burton', 'Lambert', 'Swift-Hawkins',\n",
       "       'Bates-Pope', 'Parkes', 'Garner', 'Dickinson', 'Collier-Lucas',\n",
       "       'Ward-Ryan', 'Farrell', 'Rowley-Law', 'McCarthy-Hall',\n",
       "       'Bradley-Marshall', 'Saunders-Woods', 'Dixon', 'Baxter-Higgins',\n",
       "       'Barber', 'Curtis', 'Ferguson', 'Buckley', 'G', 'Hobbs', 'Lamb',\n",
       "       'Blake', 'Austin', 'Finch', 'Kaur-Dunn', 'Howe', 'Graham',\n",
       "       'Baker-Clark', 'Nelson', 'Edwards-Nelson', 'Woodward',\n",
       "       'Barlow-Saunders', 'Cooper-Green', 'Kirk-Powell', 'Jordan',\n",
       "       'Rose-Singh', 'Hyde', 'Stewart Chapman', 'Gardiner', 'Ford',\n",
       "       'Gibbons', 'Turnbull', 'Winter', 'Robinson-Hughes', 'Baker-Hall',\n",
       "       'Bowen', 'Miller-Houghton', 'Parker-White', 'Giles', 'Gordon',\n",
       "       'Henderson', 'Mitchell-Burgess', 'Gallagher', \"O'Sullivan-Hawkins\",\n",
       "       'Osborne', 'Wyatt', 'Bolton', 'Wright-King', 'Davey', 'Duffy',\n",
       "       'Randall', 'Kemp', 'Norman', 'Duffy-Chandler', 'Herbert',\n",
       "       'Greenwood', 'Crawford', 'Dean', 'Rhodes', 'Herbert-Webb',\n",
       "       'Talbot', 'Hall-Field', 'Richardson-Davies-Stewart',\n",
       "       'White-Peacock', 'Macdonald', 'John', 'Hussain-Shaw',\n",
       "       'Johnson-Holmes', 'Faulkner', 'Holmes-Connor', 'Porter-Taylor',\n",
       "       'Matthews-Smith', 'Scott-Roberts', 'Chambers', 'Brooks-Ellis',\n",
       "       'Turnbull-Wallis', 'Coleman-Murray', 'Smith-Morgan',\n",
       "       'Collier-Holland', 'Briggs', 'Hyde-Graham', 'Barlow-Richardson',\n",
       "       'Marsden', 'Atkins', 'Skinner', 'Dean-Smith', 'Simmons',\n",
       "       'Brown-Moore', 'Leach-Welch', 'Cooper-Dickinson',\n",
       "       'Atkinson-McKenzie', 'Mitchell-Duncan', 'Curtis-Reynolds',\n",
       "       'Bishop-Mason', 'Griffiths-Baxter', 'Bray', 'Humphries', 'Forster',\n",
       "       'Ward-Forster', 'Sinclair-Allan', 'Ellis-Woods', 'Fowler-Watson',\n",
       "       'Hutchinson-Howard', 'Nixon', 'Goddard', 'Nicholson-Williams',\n",
       "       'White-Khan', 'Whitehouse', 'Page-Slater', 'Simpson-Jones',\n",
       "       'Lee-Coles', 'Watson-Shepherd', 'Hall-Palmer', 'Williams-Lane',\n",
       "       'Davis-Fisher', 'Barry', 'Parsons-Davis', 'Barrett-Clarke',\n",
       "       'Townsend-Davidson', 'Watts-Norris', 'Kennedy-Williams', 'Carroll',\n",
       "       'Vincent-Cooper', 'Evans-Perkins', 'Hunter-Godfrey', 'Hall-Kelly',\n",
       "       'Thomas-Patel', 'Gardiner-Clayton', 'Cooper-Jones', 'Pollard',\n",
       "       'Gregory-Hodgson', 'Russell-Clarke', 'Webster-Reid', 'M',\n",
       "       'Watson-Wright', 'Rahman', 'Thomas-Elliott', 'Gray-Williams',\n",
       "       'Wade-Henry', 'Smith-Price', 'McDonald-Johnston', 'Khan-Davies',\n",
       "       'Fletcher-Davidson', 'Lee-Fletcher-Davidson', 'Palmer-Khan',\n",
       "       'Potts', 'Dunn-Evans', 'Smith-Barlow', 'Smith-Wells',\n",
       "       'Arnold-Brooks', 'Claire Knowles-Hart', 'Joyce', 'Marsden-Connor',\n",
       "       \"O'Brien-Gardner\", 'Allen-Morgan', 'Taylor-Elliott', 'Sinclair',\n",
       "       'Hicks', 'Murphy-Greenwood', 'Thomas-Harding', 'Connor-Davies',\n",
       "       'Rice-Bird', 'Edwards-Griffiths', 'Baldwin-Price',\n",
       "       'Woodward-Harris', 'Lamb-Connolly', 'Newton-Bentley',\n",
       "       'Myers-Parker', 'Myers-Parker-Payne', 'Burrows-Patel',\n",
       "       'Mills-Johnson', 'Brown-Howard', 'Webster-Roberts', 'Jones-Wood',\n",
       "       'Nicholls-Ward', 'Morgan-Osborne'], dtype=object)"
      ]
     },
     "execution_count": 12,
     "metadata": {},
     "output_type": "execute_result"
    }
   ],
   "source": [
    "df['Surname'].unique()"
   ]
  },
  {
   "cell_type": "code",
   "execution_count": 13,
   "id": "f88f54e5",
   "metadata": {},
   "outputs": [
    {
     "data": {
      "text/plain": [
       "[' ', 'B', 'G', ' ', 'M', ' ']"
      ]
     },
     "execution_count": 13,
     "metadata": {},
     "output_type": "execute_result"
    }
   ],
   "source": [
    "# Checking for mispelled surnames\n",
    "\n",
    "CheckingForMisspelledSurname = [x for x in df['Surname'] if len(x) < 2]\n",
    "CheckingForMisspelledSurname"
   ]
  },
  {
   "cell_type": "code",
   "execution_count": 14,
   "id": "60fa88af",
   "metadata": {},
   "outputs": [
    {
     "data": {
      "text/plain": [
       "[' ', ' ', ' ']"
      ]
     },
     "execution_count": 14,
     "metadata": {},
     "output_type": "execute_result"
    }
   ],
   "source": [
    "# Further Checking for mispelled surnames\n",
    "CheckingForMisspelledSurname2 = [x for x in df['Surname'] if x.isspace()]\n",
    "CheckingForMisspelledSurname2"
   ]
  },
  {
   "cell_type": "markdown",
   "id": "4239b8f1",
   "metadata": {},
   "source": [
    "### Locating row where errors occured in surname column"
   ]
  },
  {
   "cell_type": "code",
   "execution_count": 15,
   "id": "552aa71e",
   "metadata": {},
   "outputs": [
    {
     "data": {
      "text/html": [
       "<div>\n",
       "<style scoped>\n",
       "    .dataframe tbody tr th:only-of-type {\n",
       "        vertical-align: middle;\n",
       "    }\n",
       "\n",
       "    .dataframe tbody tr th {\n",
       "        vertical-align: top;\n",
       "    }\n",
       "\n",
       "    .dataframe thead th {\n",
       "        text-align: right;\n",
       "    }\n",
       "</style>\n",
       "<table border=\"1\" class=\"dataframe\">\n",
       "  <thead>\n",
       "    <tr style=\"text-align: right;\">\n",
       "      <th></th>\n",
       "      <th>House Number</th>\n",
       "      <th>Street</th>\n",
       "      <th>First Name</th>\n",
       "      <th>Surname</th>\n",
       "      <th>Age</th>\n",
       "      <th>Relationship to Head of House</th>\n",
       "      <th>Marital Status</th>\n",
       "      <th>Gender</th>\n",
       "      <th>Occupation</th>\n",
       "      <th>Infirmity</th>\n",
       "      <th>Religion</th>\n",
       "    </tr>\n",
       "  </thead>\n",
       "  <tbody>\n",
       "    <tr>\n",
       "      <th>1184</th>\n",
       "      <td>26</td>\n",
       "      <td>Dockers Road</td>\n",
       "      <td>Jayne</td>\n",
       "      <td></td>\n",
       "      <td>38</td>\n",
       "      <td>Head</td>\n",
       "      <td>Single</td>\n",
       "      <td>Female</td>\n",
       "      <td>Records manager</td>\n",
       "      <td>None</td>\n",
       "      <td>None</td>\n",
       "    </tr>\n",
       "    <tr>\n",
       "      <th>5409</th>\n",
       "      <td>34</td>\n",
       "      <td>Walker Path</td>\n",
       "      <td>William</td>\n",
       "      <td></td>\n",
       "      <td>11</td>\n",
       "      <td>Grandson</td>\n",
       "      <td>NaN</td>\n",
       "      <td>Male</td>\n",
       "      <td>Student</td>\n",
       "      <td>None</td>\n",
       "      <td>NaN</td>\n",
       "    </tr>\n",
       "    <tr>\n",
       "      <th>7154</th>\n",
       "      <td>162</td>\n",
       "      <td>Mace Road</td>\n",
       "      <td>Sophie</td>\n",
       "      <td></td>\n",
       "      <td>33</td>\n",
       "      <td>Wife</td>\n",
       "      <td>Married</td>\n",
       "      <td>Female</td>\n",
       "      <td>Volunteer coordinator</td>\n",
       "      <td>None</td>\n",
       "      <td>None</td>\n",
       "    </tr>\n",
       "  </tbody>\n",
       "</table>\n",
       "</div>"
      ],
      "text/plain": [
       "     House Number        Street First Name Surname Age  \\\n",
       "1184           26  Dockers Road      Jayne          38   \n",
       "5409           34   Walker Path    William          11   \n",
       "7154          162     Mace Road     Sophie          33   \n",
       "\n",
       "     Relationship to Head of House Marital Status  Gender  \\\n",
       "1184                          Head         Single  Female   \n",
       "5409                      Grandson            NaN    Male   \n",
       "7154                          Wife        Married  Female   \n",
       "\n",
       "                 Occupation Infirmity Religion  \n",
       "1184        Records manager      None     None  \n",
       "5409                Student      None      NaN  \n",
       "7154  Volunteer coordinator      None     None  "
      ]
     },
     "execution_count": 15,
     "metadata": {},
     "output_type": "execute_result"
    }
   ],
   "source": [
    "df[df['Surname'] == ' ']"
   ]
  },
  {
   "cell_type": "code",
   "execution_count": 16,
   "id": "81d47352",
   "metadata": {},
   "outputs": [
    {
     "data": {
      "text/html": [
       "<div>\n",
       "<style scoped>\n",
       "    .dataframe tbody tr th:only-of-type {\n",
       "        vertical-align: middle;\n",
       "    }\n",
       "\n",
       "    .dataframe tbody tr th {\n",
       "        vertical-align: top;\n",
       "    }\n",
       "\n",
       "    .dataframe thead th {\n",
       "        text-align: right;\n",
       "    }\n",
       "</style>\n",
       "<table border=\"1\" class=\"dataframe\">\n",
       "  <thead>\n",
       "    <tr style=\"text-align: right;\">\n",
       "      <th></th>\n",
       "      <th>House Number</th>\n",
       "      <th>Street</th>\n",
       "      <th>First Name</th>\n",
       "      <th>Surname</th>\n",
       "      <th>Age</th>\n",
       "      <th>Relationship to Head of House</th>\n",
       "      <th>Marital Status</th>\n",
       "      <th>Gender</th>\n",
       "      <th>Occupation</th>\n",
       "      <th>Infirmity</th>\n",
       "      <th>Religion</th>\n",
       "    </tr>\n",
       "  </thead>\n",
       "  <tbody>\n",
       "    <tr>\n",
       "      <th>6717</th>\n",
       "      <td>4</td>\n",
       "      <td>Mace Road</td>\n",
       "      <td>Liam</td>\n",
       "      <td>M</td>\n",
       "      <td>12</td>\n",
       "      <td>Grandson</td>\n",
       "      <td>NaN</td>\n",
       "      <td>Male</td>\n",
       "      <td>Student</td>\n",
       "      <td>None</td>\n",
       "      <td>NaN</td>\n",
       "    </tr>\n",
       "  </tbody>\n",
       "</table>\n",
       "</div>"
      ],
      "text/plain": [
       "     House Number     Street First Name Surname Age  \\\n",
       "6717            4  Mace Road       Liam       M  12   \n",
       "\n",
       "     Relationship to Head of House Marital Status Gender Occupation Infirmity  \\\n",
       "6717                      Grandson            NaN   Male    Student      None   \n",
       "\n",
       "     Religion  \n",
       "6717      NaN  "
      ]
     },
     "execution_count": 16,
     "metadata": {},
     "output_type": "execute_result"
    }
   ],
   "source": [
    "df[df['Surname'] == 'M']"
   ]
  },
  {
   "cell_type": "code",
   "execution_count": 17,
   "id": "d836c679",
   "metadata": {},
   "outputs": [
    {
     "data": {
      "text/html": [
       "<div>\n",
       "<style scoped>\n",
       "    .dataframe tbody tr th:only-of-type {\n",
       "        vertical-align: middle;\n",
       "    }\n",
       "\n",
       "    .dataframe tbody tr th {\n",
       "        vertical-align: top;\n",
       "    }\n",
       "\n",
       "    .dataframe thead th {\n",
       "        text-align: right;\n",
       "    }\n",
       "</style>\n",
       "<table border=\"1\" class=\"dataframe\">\n",
       "  <thead>\n",
       "    <tr style=\"text-align: right;\">\n",
       "      <th></th>\n",
       "      <th>House Number</th>\n",
       "      <th>Street</th>\n",
       "      <th>First Name</th>\n",
       "      <th>Surname</th>\n",
       "      <th>Age</th>\n",
       "      <th>Relationship to Head of House</th>\n",
       "      <th>Marital Status</th>\n",
       "      <th>Gender</th>\n",
       "      <th>Occupation</th>\n",
       "      <th>Infirmity</th>\n",
       "      <th>Religion</th>\n",
       "    </tr>\n",
       "  </thead>\n",
       "  <tbody>\n",
       "    <tr>\n",
       "      <th>3148</th>\n",
       "      <td>40</td>\n",
       "      <td>Robinson Way</td>\n",
       "      <td>Margaret</td>\n",
       "      <td>G</td>\n",
       "      <td>8</td>\n",
       "      <td>Daughter</td>\n",
       "      <td>NaN</td>\n",
       "      <td>Female</td>\n",
       "      <td>Student</td>\n",
       "      <td>None</td>\n",
       "      <td>NaN</td>\n",
       "    </tr>\n",
       "  </tbody>\n",
       "</table>\n",
       "</div>"
      ],
      "text/plain": [
       "     House Number        Street First Name Surname Age  \\\n",
       "3148           40  Robinson Way   Margaret       G   8   \n",
       "\n",
       "     Relationship to Head of House Marital Status  Gender Occupation  \\\n",
       "3148                      Daughter            NaN  Female    Student   \n",
       "\n",
       "     Infirmity Religion  \n",
       "3148      None      NaN  "
      ]
     },
     "execution_count": 17,
     "metadata": {},
     "output_type": "execute_result"
    }
   ],
   "source": [
    "df[df['Surname'] == 'G']"
   ]
  },
  {
   "cell_type": "code",
   "execution_count": 18,
   "id": "93f45449",
   "metadata": {},
   "outputs": [
    {
     "data": {
      "text/html": [
       "<div>\n",
       "<style scoped>\n",
       "    .dataframe tbody tr th:only-of-type {\n",
       "        vertical-align: middle;\n",
       "    }\n",
       "\n",
       "    .dataframe tbody tr th {\n",
       "        vertical-align: top;\n",
       "    }\n",
       "\n",
       "    .dataframe thead th {\n",
       "        text-align: right;\n",
       "    }\n",
       "</style>\n",
       "<table border=\"1\" class=\"dataframe\">\n",
       "  <thead>\n",
       "    <tr style=\"text-align: right;\">\n",
       "      <th></th>\n",
       "      <th>House Number</th>\n",
       "      <th>Street</th>\n",
       "      <th>First Name</th>\n",
       "      <th>Surname</th>\n",
       "      <th>Age</th>\n",
       "      <th>Relationship to Head of House</th>\n",
       "      <th>Marital Status</th>\n",
       "      <th>Gender</th>\n",
       "      <th>Occupation</th>\n",
       "      <th>Infirmity</th>\n",
       "      <th>Religion</th>\n",
       "    </tr>\n",
       "  </thead>\n",
       "  <tbody>\n",
       "    <tr>\n",
       "      <th>2464</th>\n",
       "      <td>14</td>\n",
       "      <td>Hazel Road</td>\n",
       "      <td>Matthew</td>\n",
       "      <td>B</td>\n",
       "      <td>3</td>\n",
       "      <td>Son</td>\n",
       "      <td>NaN</td>\n",
       "      <td>Male</td>\n",
       "      <td>Child</td>\n",
       "      <td>None</td>\n",
       "      <td>NaN</td>\n",
       "    </tr>\n",
       "  </tbody>\n",
       "</table>\n",
       "</div>"
      ],
      "text/plain": [
       "     House Number      Street First Name Surname Age  \\\n",
       "2464           14  Hazel Road    Matthew       B   3   \n",
       "\n",
       "     Relationship to Head of House Marital Status Gender Occupation Infirmity  \\\n",
       "2464                           Son            NaN   Male      Child      None   \n",
       "\n",
       "     Religion  \n",
       "2464      NaN  "
      ]
     },
     "execution_count": 18,
     "metadata": {},
     "output_type": "execute_result"
    }
   ],
   "source": [
    "df[df['Surname'] == 'B']"
   ]
  },
  {
   "cell_type": "code",
   "execution_count": 19,
   "id": "51ceb3ee",
   "metadata": {},
   "outputs": [],
   "source": [
    "# Empty strings and other incomplete surnames were replaced by checking other columns such as house adress, postion in house, age etc.\n",
    "df.iat[3522, 3 ] = 'Bradshaw'\n",
    "\n",
    "df.iat[5409, 3 ] = 'Bailey'\n",
    "\n",
    "df.iat[5409, 3 ] = 'Bailey'\n",
    "\n",
    "df.iat[5409, 3 ] = 'Booth'\n",
    "\n",
    "df.iat[2464, 3 ] = 'Bailey'\n",
    "\n",
    "df.iat[3148, 3 ] = 'Gregory'\n",
    "\n",
    "df.iat[7285, 3 ] = 'Knowles-Hart'\n",
    "\n",
    "df.iat[3522, 3 ] = 'Chapman'\n",
    "\n",
    "df.iat[6717, 3 ] = 'McLean'"
   ]
  },
  {
   "cell_type": "markdown",
   "id": "8366ea8f",
   "metadata": {},
   "source": [
    "# Cleaning of age Column"
   ]
  },
  {
   "cell_type": "code",
   "execution_count": 20,
   "id": "c73c5dff",
   "metadata": {},
   "outputs": [
    {
     "data": {
      "text/plain": [
       "array(['64', '37', '18', '33', '35', '8', '5', '60', '61', '29', '28',\n",
       "       '1', '56', '76', '24', '34', '39', '50', '59', '10', '3', '27',\n",
       "       '57', '42', '23', '58', '36', '38', '40', '55', '52', '11', '19',\n",
       "       '2', '15', '9', '6', '47', '16', '12', '25', '22', '21', '14', '0',\n",
       "       '70', '66', '83', '80', '68', '48', '77', '46', '53', '51', '71',\n",
       "       '32', '43', '20', '85', '87', '81', '92', '30', '63', '65', '49',\n",
       "       '73', '88', '54', '89', '78', '82', '74', '69', '45', '31', '62',\n",
       "       '17', '72', '67', '13', '4', '7', '41', '44', '75', '103', '101',\n",
       "       '102', '109', '26', '86', '84', '94', '90', '79', '96', ' ', '183',\n",
       "       '105', '4.5', '91', '95', '98', '60.24768262', '100', '-1', 'Four',\n",
       "       'Fifty Two', '97', '5.25', 'Seventeen', '93', '63.7082276', '104',\n",
       "       '86.95973188', '85.95973188', '0.3', '1.75', '108'], dtype=object)"
      ]
     },
     "execution_count": 20,
     "metadata": {},
     "output_type": "execute_result"
    }
   ],
   "source": [
    "df['Age'].unique()"
   ]
  },
  {
   "cell_type": "code",
   "execution_count": 21,
   "id": "8f236fe1",
   "metadata": {},
   "outputs": [
    {
     "data": {
      "text/html": [
       "<div>\n",
       "<style scoped>\n",
       "    .dataframe tbody tr th:only-of-type {\n",
       "        vertical-align: middle;\n",
       "    }\n",
       "\n",
       "    .dataframe tbody tr th {\n",
       "        vertical-align: top;\n",
       "    }\n",
       "\n",
       "    .dataframe thead th {\n",
       "        text-align: right;\n",
       "    }\n",
       "</style>\n",
       "<table border=\"1\" class=\"dataframe\">\n",
       "  <thead>\n",
       "    <tr style=\"text-align: right;\">\n",
       "      <th></th>\n",
       "      <th>House Number</th>\n",
       "      <th>Street</th>\n",
       "      <th>First Name</th>\n",
       "      <th>Surname</th>\n",
       "      <th>Age</th>\n",
       "      <th>Relationship to Head of House</th>\n",
       "      <th>Marital Status</th>\n",
       "      <th>Gender</th>\n",
       "      <th>Occupation</th>\n",
       "      <th>Infirmity</th>\n",
       "      <th>Religion</th>\n",
       "    </tr>\n",
       "  </thead>\n",
       "  <tbody>\n",
       "    <tr>\n",
       "      <th>1237</th>\n",
       "      <td>13</td>\n",
       "      <td>Scotland Groves</td>\n",
       "      <td>Roger</td>\n",
       "      <td>Connor</td>\n",
       "      <td></td>\n",
       "      <td>Head</td>\n",
       "      <td>Single</td>\n",
       "      <td>Male</td>\n",
       "      <td>University Student</td>\n",
       "      <td>None</td>\n",
       "      <td>None</td>\n",
       "    </tr>\n",
       "  </tbody>\n",
       "</table>\n",
       "</div>"
      ],
      "text/plain": [
       "     House Number           Street First Name Surname Age  \\\n",
       "1237           13  Scotland Groves      Roger  Connor       \n",
       "\n",
       "     Relationship to Head of House Marital Status Gender          Occupation  \\\n",
       "1237                          Head         Single   Male  University Student   \n",
       "\n",
       "     Infirmity Religion  \n",
       "1237      None     None  "
      ]
     },
     "execution_count": 21,
     "metadata": {},
     "output_type": "execute_result"
    }
   ],
   "source": [
    "# Locating age column with empty string\n",
    "df[df['Age'] == ' ']"
   ]
  },
  {
   "cell_type": "code",
   "execution_count": 22,
   "id": "444da460",
   "metadata": {},
   "outputs": [],
   "source": [
    "# All age writen in words are replaced in integer form\n",
    "df['Age'] = df['Age'].replace('Seventeen', 17)\n",
    "df['Age'] = df['Age'].replace('Fifty Two', 52)\n",
    "df['Age'] = df['Age'].replace('Four', 4)\n",
    "#  I assumed the child's age is 1 and -1 was a mistake\n",
    "df['Age'] = df['Age'].replace('-1', 1)\n",
    "#  I assumed the age  of this person is 83 since he is retired and the oldest man is 116\n",
    "df['Age'] = df['Age'].replace('183', 83)\n",
    "# I converted this to null to enable me calculate the mean below\n",
    "# df['Age'] = df['Age'].replace(' ', None)\n",
    "df.iat[1237,4] = 0\n"
   ]
  },
  {
   "cell_type": "code",
   "execution_count": 23,
   "id": "556568a6",
   "metadata": {},
   "outputs": [
    {
     "data": {
      "text/plain": [
       "20.283464566929133"
      ]
     },
     "execution_count": 23,
     "metadata": {},
     "output_type": "execute_result"
    }
   ],
   "source": [
    "'''To assume a suitable able for the empty string, I got the mean of column where Realtionship \n",
    "to house hold = 'Head' and Ocuupation = student'''\n",
    "y = df[(df['Relationship to Head of House'] == 'Head') & (df['Occupation'] =='University Student')]\n",
    "b = [int(f) for f in y['Age']]\n",
    "x = np.array( b )\n",
    "total = x.sum()\n",
    "mean = total/(x.size - 1)\n",
    "mean"
   ]
  },
  {
   "cell_type": "code",
   "execution_count": 24,
   "id": "27fe617c",
   "metadata": {},
   "outputs": [],
   "source": [
    "# Hence I asuumed a age of 20\n",
    "df.iat[1237,4] = 20"
   ]
  },
  {
   "cell_type": "code",
   "execution_count": 25,
   "id": "25ffd5d3",
   "metadata": {},
   "outputs": [],
   "source": [
    "# Convert data type from string to integer\n",
    "df['Age']= [float(x) for x in df['Age']]\n",
    "df['Age'] = [int(x) for x in df['Age']]"
   ]
  },
  {
   "cell_type": "markdown",
   "id": "064e19c2",
   "metadata": {},
   "source": [
    "## Cleaning \"Relationship to Head of House\" column"
   ]
  },
  {
   "cell_type": "code",
   "execution_count": 26,
   "id": "7b6f9741",
   "metadata": {},
   "outputs": [
    {
     "data": {
      "text/plain": [
       "array(['Head', 'None', 'Wife', 'Daughter', 'Son', 'Husband', 'Lodger',\n",
       "       'Cousin', 'Grandson', 'Partner', 'Visitor', 'S on',\n",
       "       'Step-Daughter', 'Granddaughter', 'Neice', 'Step-Son',\n",
       "       'Adopted Son', 'Sibling', 'Nephew', 'wife', 'cousin', 'Hus band',\n",
       "       'Adopted Daughter', 'Adopted Grandson', 'Dau ghter', 'lodger',\n",
       "       'Gran dson', 'he ad', 'Hu-sband', 'son'], dtype=object)"
      ]
     },
     "execution_count": 26,
     "metadata": {},
     "output_type": "execute_result"
    }
   ],
   "source": [
    "df['Relationship to Head of House'].unique()"
   ]
  },
  {
   "cell_type": "code",
   "execution_count": 27,
   "id": "106e15b5",
   "metadata": {},
   "outputs": [],
   "source": [
    "# Replacing unique value where words where spelled wrongly\n",
    "\n",
    "df['Relationship to Head of House'] = df['Relationship to Head of House'].replace('So n', 'Son')\n",
    "df['Relationship to Head of House'] = df['Relationship to Head of House'].replace('Hus band', 'Husband')\n",
    "df['Relationship to Head of House'] = df['Relationship to Head of House'].replace('Daughter', 'Daughter')\n",
    "df['Relationship to Head of House'] = df['Relationship to Head of House'].replace('Gran dson', 'Grandson')\n",
    "df['Relationship to Head of House'] = df['Relationship to Head of House'].replace('he ad', 'Head')\n",
    "df['Relationship to Head of House'] = df['Relationship to Head of House'].replace('Hu-sband', 'Husband')\n",
    "df['Relationship to Head of House'] = df['Relationship to Head of House'].replace('son', 'Son')"
   ]
  },
  {
   "cell_type": "code",
   "execution_count": 28,
   "id": "0a8b210c",
   "metadata": {},
   "outputs": [
    {
     "data": {
      "text/html": [
       "<div>\n",
       "<style scoped>\n",
       "    .dataframe tbody tr th:only-of-type {\n",
       "        vertical-align: middle;\n",
       "    }\n",
       "\n",
       "    .dataframe tbody tr th {\n",
       "        vertical-align: top;\n",
       "    }\n",
       "\n",
       "    .dataframe thead th {\n",
       "        text-align: right;\n",
       "    }\n",
       "</style>\n",
       "<table border=\"1\" class=\"dataframe\">\n",
       "  <thead>\n",
       "    <tr style=\"text-align: right;\">\n",
       "      <th></th>\n",
       "      <th>House Number</th>\n",
       "      <th>Street</th>\n",
       "      <th>First Name</th>\n",
       "      <th>Surname</th>\n",
       "      <th>Age</th>\n",
       "      <th>Relationship to Head of House</th>\n",
       "      <th>Marital Status</th>\n",
       "      <th>Gender</th>\n",
       "      <th>Occupation</th>\n",
       "      <th>Infirmity</th>\n",
       "      <th>Religion</th>\n",
       "    </tr>\n",
       "  </thead>\n",
       "  <tbody>\n",
       "    <tr>\n",
       "      <th>3210</th>\n",
       "      <td>57</td>\n",
       "      <td>Robinson Way</td>\n",
       "      <td>Jessica</td>\n",
       "      <td>Price</td>\n",
       "      <td>15</td>\n",
       "      <td>Head</td>\n",
       "      <td>Married</td>\n",
       "      <td>Female</td>\n",
       "      <td>Student</td>\n",
       "      <td>None</td>\n",
       "      <td>NaN</td>\n",
       "    </tr>\n",
       "    <tr>\n",
       "      <th>5316</th>\n",
       "      <td>10</td>\n",
       "      <td>Walker Path</td>\n",
       "      <td>Lewis</td>\n",
       "      <td>Curtis-Reynolds</td>\n",
       "      <td>17</td>\n",
       "      <td>Head</td>\n",
       "      <td>Married</td>\n",
       "      <td>Male</td>\n",
       "      <td>Student</td>\n",
       "      <td>None</td>\n",
       "      <td>NaN</td>\n",
       "    </tr>\n",
       "    <tr>\n",
       "      <th>5678</th>\n",
       "      <td>7</td>\n",
       "      <td>Johnson Light</td>\n",
       "      <td>Caroline</td>\n",
       "      <td>Wall</td>\n",
       "      <td>15</td>\n",
       "      <td>Head</td>\n",
       "      <td>Married</td>\n",
       "      <td>Female</td>\n",
       "      <td>Student</td>\n",
       "      <td>None</td>\n",
       "      <td>NaN</td>\n",
       "    </tr>\n",
       "  </tbody>\n",
       "</table>\n",
       "</div>"
      ],
      "text/plain": [
       "     House Number         Street First Name          Surname  Age  \\\n",
       "3210           57   Robinson Way    Jessica            Price   15   \n",
       "5316           10    Walker Path      Lewis  Curtis-Reynolds   17   \n",
       "5678            7  Johnson Light   Caroline             Wall   15   \n",
       "\n",
       "     Relationship to Head of House Marital Status  Gender Occupation  \\\n",
       "3210                          Head        Married  Female    Student   \n",
       "5316                          Head        Married    Male    Student   \n",
       "5678                          Head        Married  Female    Student   \n",
       "\n",
       "     Infirmity Religion  \n",
       "3210      None      NaN  \n",
       "5316      None      NaN  \n",
       "5678      None      NaN  "
      ]
     },
     "execution_count": 28,
     "metadata": {},
     "output_type": "execute_result"
    }
   ],
   "source": [
    "# Checking for Head of house below 18\n",
    "\n",
    "Under18Headofhouse = df[(df['Relationship to Head of House'] == 'Head') & (df['Age'] < 18)]\n",
    "Under18Headofhouse"
   ]
  },
  {
   "cell_type": "code",
   "execution_count": 29,
   "id": "244d553f",
   "metadata": {},
   "outputs": [
    {
     "data": {
      "text/html": [
       "<div>\n",
       "<style scoped>\n",
       "    .dataframe tbody tr th:only-of-type {\n",
       "        vertical-align: middle;\n",
       "    }\n",
       "\n",
       "    .dataframe tbody tr th {\n",
       "        vertical-align: top;\n",
       "    }\n",
       "\n",
       "    .dataframe thead th {\n",
       "        text-align: right;\n",
       "    }\n",
       "</style>\n",
       "<table border=\"1\" class=\"dataframe\">\n",
       "  <thead>\n",
       "    <tr style=\"text-align: right;\">\n",
       "      <th></th>\n",
       "      <th>House Number</th>\n",
       "      <th>Street</th>\n",
       "      <th>First Name</th>\n",
       "      <th>Surname</th>\n",
       "      <th>Age</th>\n",
       "      <th>Relationship to Head of House</th>\n",
       "      <th>Marital Status</th>\n",
       "      <th>Gender</th>\n",
       "      <th>Occupation</th>\n",
       "      <th>Infirmity</th>\n",
       "      <th>Religion</th>\n",
       "    </tr>\n",
       "  </thead>\n",
       "  <tbody>\n",
       "    <tr>\n",
       "      <th>755</th>\n",
       "      <td>37</td>\n",
       "      <td>Cancer Radial</td>\n",
       "      <td>Russell</td>\n",
       "      <td>Brown</td>\n",
       "      <td>18</td>\n",
       "      <td>Head</td>\n",
       "      <td>Married</td>\n",
       "      <td>Male</td>\n",
       "      <td>Student</td>\n",
       "      <td>None</td>\n",
       "      <td>NaN</td>\n",
       "    </tr>\n",
       "    <tr>\n",
       "      <th>3210</th>\n",
       "      <td>57</td>\n",
       "      <td>Robinson Way</td>\n",
       "      <td>Jessica</td>\n",
       "      <td>Price</td>\n",
       "      <td>15</td>\n",
       "      <td>Head</td>\n",
       "      <td>Married</td>\n",
       "      <td>Female</td>\n",
       "      <td>Student</td>\n",
       "      <td>None</td>\n",
       "      <td>NaN</td>\n",
       "    </tr>\n",
       "    <tr>\n",
       "      <th>4567</th>\n",
       "      <td>27</td>\n",
       "      <td>Brown Road</td>\n",
       "      <td>Connor</td>\n",
       "      <td>Cox</td>\n",
       "      <td>18</td>\n",
       "      <td>Head</td>\n",
       "      <td>Married</td>\n",
       "      <td>Male</td>\n",
       "      <td>Student</td>\n",
       "      <td>None</td>\n",
       "      <td>NaN</td>\n",
       "    </tr>\n",
       "    <tr>\n",
       "      <th>5316</th>\n",
       "      <td>10</td>\n",
       "      <td>Walker Path</td>\n",
       "      <td>Lewis</td>\n",
       "      <td>Curtis-Reynolds</td>\n",
       "      <td>17</td>\n",
       "      <td>Head</td>\n",
       "      <td>Married</td>\n",
       "      <td>Male</td>\n",
       "      <td>Student</td>\n",
       "      <td>None</td>\n",
       "      <td>NaN</td>\n",
       "    </tr>\n",
       "    <tr>\n",
       "      <th>5678</th>\n",
       "      <td>7</td>\n",
       "      <td>Johnson Light</td>\n",
       "      <td>Caroline</td>\n",
       "      <td>Wall</td>\n",
       "      <td>15</td>\n",
       "      <td>Head</td>\n",
       "      <td>Married</td>\n",
       "      <td>Female</td>\n",
       "      <td>Student</td>\n",
       "      <td>None</td>\n",
       "      <td>NaN</td>\n",
       "    </tr>\n",
       "    <tr>\n",
       "      <th>6045</th>\n",
       "      <td>22</td>\n",
       "      <td>Nottingham Drive</td>\n",
       "      <td>Emma</td>\n",
       "      <td>Stewart</td>\n",
       "      <td>18</td>\n",
       "      <td>Head</td>\n",
       "      <td>Married</td>\n",
       "      <td>Female</td>\n",
       "      <td>Student</td>\n",
       "      <td>None</td>\n",
       "      <td>NaN</td>\n",
       "    </tr>\n",
       "    <tr>\n",
       "      <th>6280</th>\n",
       "      <td>113</td>\n",
       "      <td>Nottingham Drive</td>\n",
       "      <td>Abbie</td>\n",
       "      <td>Richards</td>\n",
       "      <td>18</td>\n",
       "      <td>Head</td>\n",
       "      <td>Married</td>\n",
       "      <td>Female</td>\n",
       "      <td>Student</td>\n",
       "      <td>None</td>\n",
       "      <td>NaN</td>\n",
       "    </tr>\n",
       "    <tr>\n",
       "      <th>6315</th>\n",
       "      <td>127</td>\n",
       "      <td>Nottingham Drive</td>\n",
       "      <td>Julia</td>\n",
       "      <td>James</td>\n",
       "      <td>18</td>\n",
       "      <td>Head</td>\n",
       "      <td>Married</td>\n",
       "      <td>Female</td>\n",
       "      <td>Student</td>\n",
       "      <td>None</td>\n",
       "      <td>NaN</td>\n",
       "    </tr>\n",
       "  </tbody>\n",
       "</table>\n",
       "</div>"
      ],
      "text/plain": [
       "     House Number            Street First Name          Surname  Age  \\\n",
       "755            37     Cancer Radial    Russell            Brown   18   \n",
       "3210           57      Robinson Way    Jessica            Price   15   \n",
       "4567           27        Brown Road     Connor              Cox   18   \n",
       "5316           10       Walker Path      Lewis  Curtis-Reynolds   17   \n",
       "5678            7     Johnson Light   Caroline             Wall   15   \n",
       "6045           22  Nottingham Drive       Emma          Stewart   18   \n",
       "6280          113  Nottingham Drive      Abbie         Richards   18   \n",
       "6315          127  Nottingham Drive      Julia            James   18   \n",
       "\n",
       "     Relationship to Head of House Marital Status  Gender Occupation  \\\n",
       "755                           Head        Married    Male    Student   \n",
       "3210                          Head        Married  Female    Student   \n",
       "4567                          Head        Married    Male    Student   \n",
       "5316                          Head        Married    Male    Student   \n",
       "5678                          Head        Married  Female    Student   \n",
       "6045                          Head        Married  Female    Student   \n",
       "6280                          Head        Married  Female    Student   \n",
       "6315                          Head        Married  Female    Student   \n",
       "\n",
       "     Infirmity Religion  \n",
       "755       None      NaN  \n",
       "3210      None      NaN  \n",
       "4567      None      NaN  \n",
       "5316      None      NaN  \n",
       "5678      None      NaN  \n",
       "6045      None      NaN  \n",
       "6280      None      NaN  \n",
       "6315      None      NaN  "
      ]
     },
     "execution_count": 29,
     "metadata": {},
     "output_type": "execute_result"
    }
   ],
   "source": [
    "df[(df['Marital Status'] == 'Married') & (df['Occupation'] == 'Student')]"
   ]
  },
  {
   "cell_type": "code",
   "execution_count": 30,
   "id": "5724302e",
   "metadata": {},
   "outputs": [],
   "source": [
    "''' After filtering the data, it was observed thatt the mode value for married student who were head of house are 18 years. \n",
    "It was inferred that the married students age will be 18 years'''\n",
    "\n",
    "df.iat[5678, 4] = 18\n",
    "df.iat[5316, 4] = 18\n",
    "df.iat[3210, 4] = 18\n"
   ]
  },
  {
   "cell_type": "markdown",
   "id": "74c3e0fd",
   "metadata": {},
   "source": [
    "## Cleaning \"Marital Status\" column"
   ]
  },
  {
   "cell_type": "code",
   "execution_count": 31,
   "id": "e94ea950",
   "metadata": {},
   "outputs": [
    {
     "data": {
      "text/plain": [
       "array(['Single', 'Divorced', 'Married', nan, 'Widowed', ' '], dtype=object)"
      ]
     },
     "execution_count": 31,
     "metadata": {},
     "output_type": "execute_result"
    }
   ],
   "source": [
    "df['Marital Status'].unique()"
   ]
  },
  {
   "cell_type": "code",
   "execution_count": 32,
   "id": "aad519e7",
   "metadata": {},
   "outputs": [
    {
     "data": {
      "text/html": [
       "<div>\n",
       "<style scoped>\n",
       "    .dataframe tbody tr th:only-of-type {\n",
       "        vertical-align: middle;\n",
       "    }\n",
       "\n",
       "    .dataframe tbody tr th {\n",
       "        vertical-align: top;\n",
       "    }\n",
       "\n",
       "    .dataframe thead th {\n",
       "        text-align: right;\n",
       "    }\n",
       "</style>\n",
       "<table border=\"1\" class=\"dataframe\">\n",
       "  <thead>\n",
       "    <tr style=\"text-align: right;\">\n",
       "      <th></th>\n",
       "      <th>House Number</th>\n",
       "      <th>Street</th>\n",
       "      <th>First Name</th>\n",
       "      <th>Surname</th>\n",
       "      <th>Age</th>\n",
       "      <th>Relationship to Head of House</th>\n",
       "      <th>Marital Status</th>\n",
       "      <th>Gender</th>\n",
       "      <th>Occupation</th>\n",
       "      <th>Infirmity</th>\n",
       "      <th>Religion</th>\n",
       "    </tr>\n",
       "  </thead>\n",
       "  <tbody>\n",
       "    <tr>\n",
       "      <th>239</th>\n",
       "      <td>6</td>\n",
       "      <td>Walsh Avenue</td>\n",
       "      <td>Brandon</td>\n",
       "      <td>Phillips</td>\n",
       "      <td>60</td>\n",
       "      <td>Head</td>\n",
       "      <td></td>\n",
       "      <td>Male</td>\n",
       "      <td>Geophysicist/field seismologist</td>\n",
       "      <td>None</td>\n",
       "      <td>Christian</td>\n",
       "    </tr>\n",
       "    <tr>\n",
       "      <th>5130</th>\n",
       "      <td>2</td>\n",
       "      <td>Coventry Avenue</td>\n",
       "      <td>Jenna</td>\n",
       "      <td>Mitchell</td>\n",
       "      <td>12</td>\n",
       "      <td>Daughter</td>\n",
       "      <td></td>\n",
       "      <td>Female</td>\n",
       "      <td>Student</td>\n",
       "      <td>None</td>\n",
       "      <td>NaN</td>\n",
       "    </tr>\n",
       "    <tr>\n",
       "      <th>6692</th>\n",
       "      <td>35</td>\n",
       "      <td>September Motorway</td>\n",
       "      <td>Joshua</td>\n",
       "      <td>Hopkins</td>\n",
       "      <td>62</td>\n",
       "      <td>Head</td>\n",
       "      <td></td>\n",
       "      <td>Male</td>\n",
       "      <td>Therapist, drama</td>\n",
       "      <td>None</td>\n",
       "      <td>Methodist</td>\n",
       "    </tr>\n",
       "  </tbody>\n",
       "</table>\n",
       "</div>"
      ],
      "text/plain": [
       "     House Number              Street First Name   Surname  Age  \\\n",
       "239             6        Walsh Avenue    Brandon  Phillips   60   \n",
       "5130            2     Coventry Avenue      Jenna  Mitchell   12   \n",
       "6692           35  September Motorway     Joshua   Hopkins   62   \n",
       "\n",
       "     Relationship to Head of House Marital Status  Gender  \\\n",
       "239                           Head                   Male   \n",
       "5130                      Daughter                 Female   \n",
       "6692                          Head                   Male   \n",
       "\n",
       "                           Occupation Infirmity   Religion  \n",
       "239   Geophysicist/field seismologist      None  Christian  \n",
       "5130                          Student      None        NaN  \n",
       "6692                 Therapist, drama      None  Methodist  "
      ]
     },
     "execution_count": 32,
     "metadata": {},
     "output_type": "execute_result"
    }
   ],
   "source": [
    "# Filtering out empty string in marital status column\n",
    "df[df['Marital Status']== ' ']"
   ]
  },
  {
   "cell_type": "code",
   "execution_count": 33,
   "id": "4b3809cc",
   "metadata": {},
   "outputs": [],
   "source": [
    "# Inputting data inferred to be correct\n",
    "df.iat[239,6] = 'Single'\n",
    "df.iat[6692,6] = 'Single'"
   ]
  },
  {
   "cell_type": "code",
   "execution_count": 34,
   "id": "014ba734",
   "metadata": {},
   "outputs": [],
   "source": [
    "# Changing nan values to NA(Not Applicable)\n",
    "df['Marital Status'] = df['Marital Status'].fillna('NA')"
   ]
  },
  {
   "cell_type": "code",
   "execution_count": 35,
   "id": "493c877e",
   "metadata": {},
   "outputs": [
    {
     "data": {
      "text/html": [
       "<div>\n",
       "<style scoped>\n",
       "    .dataframe tbody tr th:only-of-type {\n",
       "        vertical-align: middle;\n",
       "    }\n",
       "\n",
       "    .dataframe tbody tr th {\n",
       "        vertical-align: top;\n",
       "    }\n",
       "\n",
       "    .dataframe thead th {\n",
       "        text-align: right;\n",
       "    }\n",
       "</style>\n",
       "<table border=\"1\" class=\"dataframe\">\n",
       "  <thead>\n",
       "    <tr style=\"text-align: right;\">\n",
       "      <th></th>\n",
       "      <th>House Number</th>\n",
       "      <th>Street</th>\n",
       "      <th>First Name</th>\n",
       "      <th>Surname</th>\n",
       "      <th>Age</th>\n",
       "      <th>Relationship to Head of House</th>\n",
       "      <th>Marital Status</th>\n",
       "      <th>Gender</th>\n",
       "      <th>Occupation</th>\n",
       "      <th>Infirmity</th>\n",
       "      <th>Religion</th>\n",
       "    </tr>\n",
       "  </thead>\n",
       "  <tbody>\n",
       "    <tr>\n",
       "      <th>5130</th>\n",
       "      <td>2</td>\n",
       "      <td>Coventry Avenue</td>\n",
       "      <td>Jenna</td>\n",
       "      <td>Mitchell</td>\n",
       "      <td>12</td>\n",
       "      <td>Daughter</td>\n",
       "      <td></td>\n",
       "      <td>Female</td>\n",
       "      <td>Student</td>\n",
       "      <td>None</td>\n",
       "      <td>NaN</td>\n",
       "    </tr>\n",
       "  </tbody>\n",
       "</table>\n",
       "</div>"
      ],
      "text/plain": [
       "     House Number           Street First Name   Surname  Age  \\\n",
       "5130            2  Coventry Avenue      Jenna  Mitchell   12   \n",
       "\n",
       "     Relationship to Head of House Marital Status  Gender Occupation  \\\n",
       "5130                      Daughter                 Female    Student   \n",
       "\n",
       "     Infirmity Religion  \n",
       "5130      None      NaN  "
      ]
     },
     "execution_count": 35,
     "metadata": {},
     "output_type": "execute_result"
    }
   ],
   "source": [
    "S = df[(df['Marital Status'] != 'NA') & (df['Age'] < 18)]\n",
    "S"
   ]
  },
  {
   "cell_type": "code",
   "execution_count": 36,
   "id": "d8f07952",
   "metadata": {},
   "outputs": [],
   "source": [
    "df.iat[3210,6] = 'NA' # It is posible for someone less than 18 to be married without parent consent.\n",
    "df.iat[5130,6] = 'NA' # Since is 12 years which is less than marriable age, there for she cannot be married.\n",
    "df.iat[5316,6] = 'NA' \n",
    "df.iat[5678,6] = 'NA'"
   ]
  },
  {
   "cell_type": "code",
   "execution_count": 37,
   "id": "e3ad3108",
   "metadata": {},
   "outputs": [
    {
     "data": {
      "text/html": [
       "<div>\n",
       "<style scoped>\n",
       "    .dataframe tbody tr th:only-of-type {\n",
       "        vertical-align: middle;\n",
       "    }\n",
       "\n",
       "    .dataframe tbody tr th {\n",
       "        vertical-align: top;\n",
       "    }\n",
       "\n",
       "    .dataframe thead th {\n",
       "        text-align: right;\n",
       "    }\n",
       "</style>\n",
       "<table border=\"1\" class=\"dataframe\">\n",
       "  <thead>\n",
       "    <tr style=\"text-align: right;\">\n",
       "      <th></th>\n",
       "      <th>House Number</th>\n",
       "      <th>Street</th>\n",
       "      <th>First Name</th>\n",
       "      <th>Surname</th>\n",
       "      <th>Age</th>\n",
       "      <th>Relationship to Head of House</th>\n",
       "      <th>Marital Status</th>\n",
       "      <th>Gender</th>\n",
       "      <th>Occupation</th>\n",
       "      <th>Infirmity</th>\n",
       "      <th>Religion</th>\n",
       "    </tr>\n",
       "  </thead>\n",
       "  <tbody>\n",
       "    <tr>\n",
       "      <th>5767</th>\n",
       "      <td>37</td>\n",
       "      <td>Johnson Light</td>\n",
       "      <td>Annette</td>\n",
       "      <td>Cooke</td>\n",
       "      <td>21</td>\n",
       "      <td>Daughter</td>\n",
       "      <td>NA</td>\n",
       "      <td>Female</td>\n",
       "      <td>Student</td>\n",
       "      <td>None</td>\n",
       "      <td>NaN</td>\n",
       "    </tr>\n",
       "  </tbody>\n",
       "</table>\n",
       "</div>"
      ],
      "text/plain": [
       "     House Number         Street First Name Surname  Age  \\\n",
       "5767           37  Johnson Light    Annette   Cooke   21   \n",
       "\n",
       "     Relationship to Head of House Marital Status  Gender Occupation  \\\n",
       "5767                      Daughter             NA  Female    Student   \n",
       "\n",
       "     Infirmity Religion  \n",
       "5767      None      NaN  "
      ]
     },
     "execution_count": 37,
     "metadata": {},
     "output_type": "execute_result"
    }
   ],
   "source": [
    "# Checking for persons above age 18 with NA\n",
    "df[(df['Marital Status'] == 'NA') & (df['Age'] > 18)]\n"
   ]
  },
  {
   "cell_type": "code",
   "execution_count": 38,
   "id": "967b4d2b",
   "metadata": {},
   "outputs": [],
   "source": [
    "# Repalcing marital status of ages above 18 from NA to single\n",
    "df.iat[5767,6] = 'Single'"
   ]
  },
  {
   "cell_type": "markdown",
   "id": "0be25321",
   "metadata": {},
   "source": [
    "# Cleaning of gender column"
   ]
  },
  {
   "cell_type": "code",
   "execution_count": 39,
   "id": "b6e1380d",
   "metadata": {},
   "outputs": [
    {
     "data": {
      "text/plain": [
       "array(['Female', 'Male', 'F', 'Fe male', 'M'], dtype=object)"
      ]
     },
     "execution_count": 39,
     "metadata": {},
     "output_type": "execute_result"
    }
   ],
   "source": [
    "df['Gender'].unique()"
   ]
  },
  {
   "cell_type": "code",
   "execution_count": 40,
   "id": "e0821a6a",
   "metadata": {},
   "outputs": [],
   "source": [
    "#  Repalcing wrongly spelled columns\n",
    "\n",
    "df['Gender'] = df['Gender'].replace('F', 'Female')\n",
    "df['Gender'] = df['Gender'].replace('M', 'Male')\n",
    "df['Gender'] = df['Gender'].replace('Fe male', 'Female')"
   ]
  },
  {
   "cell_type": "markdown",
   "id": "477c9be2",
   "metadata": {},
   "source": [
    "# Cleaning of Occupation Column"
   ]
  },
  {
   "cell_type": "code",
   "execution_count": 41,
   "id": "5c81d26a",
   "metadata": {},
   "outputs": [
    {
     "data": {
      "text/plain": [
       "array(['Accountant, chartered certified', 'Software engineer', 'Student',\n",
       "       ..., 'Microbiologist', 'Retired Engineer, production',\n",
       "       'Retired Actor'], dtype=object)"
      ]
     },
     "execution_count": 41,
     "metadata": {},
     "output_type": "execute_result"
    }
   ],
   "source": [
    "df['Occupation'].unique()"
   ]
  },
  {
   "cell_type": "code",
   "execution_count": 42,
   "id": "7ff23369",
   "metadata": {
    "scrolled": true
   },
   "outputs": [
    {
     "data": {
      "text/html": [
       "<div>\n",
       "<style scoped>\n",
       "    .dataframe tbody tr th:only-of-type {\n",
       "        vertical-align: middle;\n",
       "    }\n",
       "\n",
       "    .dataframe tbody tr th {\n",
       "        vertical-align: top;\n",
       "    }\n",
       "\n",
       "    .dataframe thead th {\n",
       "        text-align: right;\n",
       "    }\n",
       "</style>\n",
       "<table border=\"1\" class=\"dataframe\">\n",
       "  <thead>\n",
       "    <tr style=\"text-align: right;\">\n",
       "      <th></th>\n",
       "      <th>House Number</th>\n",
       "      <th>Street</th>\n",
       "      <th>First Name</th>\n",
       "      <th>Surname</th>\n",
       "      <th>Age</th>\n",
       "      <th>Relationship to Head of House</th>\n",
       "      <th>Marital Status</th>\n",
       "      <th>Gender</th>\n",
       "      <th>Occupation</th>\n",
       "      <th>Infirmity</th>\n",
       "      <th>Religion</th>\n",
       "    </tr>\n",
       "  </thead>\n",
       "  <tbody>\n",
       "    <tr>\n",
       "      <th>169</th>\n",
       "      <td>64</td>\n",
       "      <td>Stanley Road</td>\n",
       "      <td>Stewart</td>\n",
       "      <td>Jones</td>\n",
       "      <td>22</td>\n",
       "      <td>Head</td>\n",
       "      <td>Married</td>\n",
       "      <td>Male</td>\n",
       "      <td></td>\n",
       "      <td>None</td>\n",
       "      <td>None</td>\n",
       "    </tr>\n",
       "    <tr>\n",
       "      <th>6167</th>\n",
       "      <td>70</td>\n",
       "      <td>Nottingham Drive</td>\n",
       "      <td>Simon</td>\n",
       "      <td>Holt</td>\n",
       "      <td>52</td>\n",
       "      <td>Head</td>\n",
       "      <td>Single</td>\n",
       "      <td>Male</td>\n",
       "      <td></td>\n",
       "      <td>None</td>\n",
       "      <td>None</td>\n",
       "    </tr>\n",
       "  </tbody>\n",
       "</table>\n",
       "</div>"
      ],
      "text/plain": [
       "     House Number            Street First Name Surname  Age  \\\n",
       "169            64      Stanley Road    Stewart   Jones   22   \n",
       "6167           70  Nottingham Drive      Simon    Holt   52   \n",
       "\n",
       "     Relationship to Head of House Marital Status Gender Occupation Infirmity  \\\n",
       "169                           Head        Married   Male                 None   \n",
       "6167                          Head         Single   Male                 None   \n",
       "\n",
       "     Religion  \n",
       "169      None  \n",
       "6167     None  "
      ]
     },
     "execution_count": 42,
     "metadata": {},
     "output_type": "execute_result"
    }
   ],
   "source": [
    "df[df['Occupation'] ==  ' ']"
   ]
  },
  {
   "cell_type": "code",
   "execution_count": 43,
   "id": "29e1502b",
   "metadata": {
    "scrolled": true
   },
   "outputs": [
    {
     "data": {
      "text/html": [
       "<div>\n",
       "<style scoped>\n",
       "    .dataframe tbody tr th:only-of-type {\n",
       "        vertical-align: middle;\n",
       "    }\n",
       "\n",
       "    .dataframe tbody tr th {\n",
       "        vertical-align: top;\n",
       "    }\n",
       "\n",
       "    .dataframe thead th {\n",
       "        text-align: right;\n",
       "    }\n",
       "</style>\n",
       "<table border=\"1\" class=\"dataframe\">\n",
       "  <thead>\n",
       "    <tr style=\"text-align: right;\">\n",
       "      <th></th>\n",
       "      <th>House Number</th>\n",
       "      <th>Street</th>\n",
       "      <th>First Name</th>\n",
       "      <th>Surname</th>\n",
       "      <th>Age</th>\n",
       "      <th>Relationship to Head of House</th>\n",
       "      <th>Marital Status</th>\n",
       "      <th>Gender</th>\n",
       "      <th>Occupation</th>\n",
       "      <th>Infirmity</th>\n",
       "      <th>Religion</th>\n",
       "    </tr>\n",
       "  </thead>\n",
       "  <tbody>\n",
       "    <tr>\n",
       "      <th>0</th>\n",
       "      <td>15</td>\n",
       "      <td>Robinson Way</td>\n",
       "      <td>Jake</td>\n",
       "      <td>Thomas</td>\n",
       "      <td>52.0</td>\n",
       "      <td>Head</td>\n",
       "      <td>Single</td>\n",
       "      <td>Female</td>\n",
       "      <td>Unemployed</td>\n",
       "      <td>None</td>\n",
       "      <td>Christian</td>\n",
       "    </tr>\n",
       "    <tr>\n",
       "      <th>1</th>\n",
       "      <td>NaN</td>\n",
       "      <td>NaN</td>\n",
       "      <td>Mandy</td>\n",
       "      <td>NaN</td>\n",
       "      <td>NaN</td>\n",
       "      <td>NaN</td>\n",
       "      <td>NaN</td>\n",
       "      <td>NaN</td>\n",
       "      <td>NaN</td>\n",
       "      <td>NaN</td>\n",
       "      <td>NaN</td>\n",
       "    </tr>\n",
       "  </tbody>\n",
       "</table>\n",
       "</div>"
      ],
      "text/plain": [
       "  House Number        Street First Name Surname   Age  \\\n",
       "0           15  Robinson Way       Jake  Thomas  52.0   \n",
       "1          NaN           NaN      Mandy     NaN   NaN   \n",
       "\n",
       "  Relationship to Head of House Marital Status  Gender  Occupation Infirmity  \\\n",
       "0                          Head         Single  Female  Unemployed      None   \n",
       "1                           NaN            NaN     NaN         NaN       NaN   \n",
       "\n",
       "    Religion  \n",
       "0  Christian  \n",
       "1        NaN  "
      ]
     },
     "execution_count": 43,
     "metadata": {},
     "output_type": "execute_result"
    }
   ],
   "source": [
    "# Filtering our data to get the mode occupation around the missing occupation\n",
    "ValuesAroundAge22 = df[(df['Age'] > 50) & (df['Age'] < 55)]\n",
    "ValuesAroundAge22.mode()"
   ]
  },
  {
   "cell_type": "code",
   "execution_count": 44,
   "id": "b7443c09",
   "metadata": {},
   "outputs": [
    {
     "data": {
      "text/html": [
       "<div>\n",
       "<style scoped>\n",
       "    .dataframe tbody tr th:only-of-type {\n",
       "        vertical-align: middle;\n",
       "    }\n",
       "\n",
       "    .dataframe tbody tr th {\n",
       "        vertical-align: top;\n",
       "    }\n",
       "\n",
       "    .dataframe thead th {\n",
       "        text-align: right;\n",
       "    }\n",
       "</style>\n",
       "<table border=\"1\" class=\"dataframe\">\n",
       "  <thead>\n",
       "    <tr style=\"text-align: right;\">\n",
       "      <th></th>\n",
       "      <th>House Number</th>\n",
       "      <th>Street</th>\n",
       "      <th>First Name</th>\n",
       "      <th>Surname</th>\n",
       "      <th>Age</th>\n",
       "      <th>Relationship to Head of House</th>\n",
       "      <th>Marital Status</th>\n",
       "      <th>Gender</th>\n",
       "      <th>Occupation</th>\n",
       "      <th>Infirmity</th>\n",
       "      <th>Religion</th>\n",
       "    </tr>\n",
       "  </thead>\n",
       "  <tbody>\n",
       "    <tr>\n",
       "      <th>0</th>\n",
       "      <td>13</td>\n",
       "      <td>Robinson Way</td>\n",
       "      <td>Amanda</td>\n",
       "      <td>Jones</td>\n",
       "      <td>22.0</td>\n",
       "      <td>Head</td>\n",
       "      <td>Single</td>\n",
       "      <td>Female</td>\n",
       "      <td>University Student</td>\n",
       "      <td>None</td>\n",
       "      <td>None</td>\n",
       "    </tr>\n",
       "    <tr>\n",
       "      <th>1</th>\n",
       "      <td>NaN</td>\n",
       "      <td>NaN</td>\n",
       "      <td>Carol</td>\n",
       "      <td>NaN</td>\n",
       "      <td>NaN</td>\n",
       "      <td>NaN</td>\n",
       "      <td>NaN</td>\n",
       "      <td>NaN</td>\n",
       "      <td>NaN</td>\n",
       "      <td>NaN</td>\n",
       "      <td>NaN</td>\n",
       "    </tr>\n",
       "    <tr>\n",
       "      <th>2</th>\n",
       "      <td>NaN</td>\n",
       "      <td>NaN</td>\n",
       "      <td>Chelsea</td>\n",
       "      <td>NaN</td>\n",
       "      <td>NaN</td>\n",
       "      <td>NaN</td>\n",
       "      <td>NaN</td>\n",
       "      <td>NaN</td>\n",
       "      <td>NaN</td>\n",
       "      <td>NaN</td>\n",
       "      <td>NaN</td>\n",
       "    </tr>\n",
       "    <tr>\n",
       "      <th>3</th>\n",
       "      <td>NaN</td>\n",
       "      <td>NaN</td>\n",
       "      <td>Diana</td>\n",
       "      <td>NaN</td>\n",
       "      <td>NaN</td>\n",
       "      <td>NaN</td>\n",
       "      <td>NaN</td>\n",
       "      <td>NaN</td>\n",
       "      <td>NaN</td>\n",
       "      <td>NaN</td>\n",
       "      <td>NaN</td>\n",
       "    </tr>\n",
       "    <tr>\n",
       "      <th>4</th>\n",
       "      <td>NaN</td>\n",
       "      <td>NaN</td>\n",
       "      <td>Karen</td>\n",
       "      <td>NaN</td>\n",
       "      <td>NaN</td>\n",
       "      <td>NaN</td>\n",
       "      <td>NaN</td>\n",
       "      <td>NaN</td>\n",
       "      <td>NaN</td>\n",
       "      <td>NaN</td>\n",
       "      <td>NaN</td>\n",
       "    </tr>\n",
       "    <tr>\n",
       "      <th>5</th>\n",
       "      <td>NaN</td>\n",
       "      <td>NaN</td>\n",
       "      <td>Lorraine</td>\n",
       "      <td>NaN</td>\n",
       "      <td>NaN</td>\n",
       "      <td>NaN</td>\n",
       "      <td>NaN</td>\n",
       "      <td>NaN</td>\n",
       "      <td>NaN</td>\n",
       "      <td>NaN</td>\n",
       "      <td>NaN</td>\n",
       "    </tr>\n",
       "  </tbody>\n",
       "</table>\n",
       "</div>"
      ],
      "text/plain": [
       "  House Number        Street First Name Surname   Age  \\\n",
       "0           13  Robinson Way     Amanda   Jones  22.0   \n",
       "1          NaN           NaN      Carol     NaN   NaN   \n",
       "2          NaN           NaN    Chelsea     NaN   NaN   \n",
       "3          NaN           NaN      Diana     NaN   NaN   \n",
       "4          NaN           NaN      Karen     NaN   NaN   \n",
       "5          NaN           NaN   Lorraine     NaN   NaN   \n",
       "\n",
       "  Relationship to Head of House Marital Status  Gender          Occupation  \\\n",
       "0                          Head         Single  Female  University Student   \n",
       "1                           NaN            NaN     NaN                 NaN   \n",
       "2                           NaN            NaN     NaN                 NaN   \n",
       "3                           NaN            NaN     NaN                 NaN   \n",
       "4                           NaN            NaN     NaN                 NaN   \n",
       "5                           NaN            NaN     NaN                 NaN   \n",
       "\n",
       "  Infirmity Religion  \n",
       "0      None     None  \n",
       "1       NaN      NaN  \n",
       "2       NaN      NaN  \n",
       "3       NaN      NaN  \n",
       "4       NaN      NaN  \n",
       "5       NaN      NaN  "
      ]
     },
     "execution_count": 44,
     "metadata": {},
     "output_type": "execute_result"
    }
   ],
   "source": [
    "# Filtering our data to get the mode occupation round the missing occpation\n",
    "ValuesAroundAge52 = df[(df['Age'] > 20) & (df['Age'] < 25)]\n",
    "ValuesAroundAge52.mode()"
   ]
  },
  {
   "cell_type": "code",
   "execution_count": 45,
   "id": "22b0c9bb",
   "metadata": {},
   "outputs": [],
   "source": [
    "# Replacing the missing string with mode value of occupation around the age\n",
    "df.iat[169,8] = 'University Student'\n",
    "df.iat[6167,8] = 'Unemployed'"
   ]
  },
  {
   "cell_type": "markdown",
   "id": "7d70daa3",
   "metadata": {},
   "source": [
    "# Cleaning of infirmity"
   ]
  },
  {
   "cell_type": "code",
   "execution_count": 46,
   "id": "30e7f19b",
   "metadata": {},
   "outputs": [
    {
     "data": {
      "text/plain": [
       "array(['None', 'Physical Dis ability', 'Physical Disability', ' ',\n",
       "       'Blind', 'Disabled', 'Deaf', 'Unknown Infection', 'none',\n",
       "       'ment al Disability', 'Mental Disability'], dtype=object)"
      ]
     },
     "execution_count": 46,
     "metadata": {},
     "output_type": "execute_result"
    }
   ],
   "source": [
    "df['Infirmity'].unique()"
   ]
  },
  {
   "cell_type": "code",
   "execution_count": 47,
   "id": "c69302e7",
   "metadata": {},
   "outputs": [],
   "source": [
    "# Replacing misplled infirmities\n",
    "df['Infirmity'] = df['Infirmity'].replace('Physical Dis ability', 'Physical Disability')\n",
    "df['Infirmity'] = df['Infirmity'].replace('ment al Disability', 'Mental Disability')\n",
    "df['Infirmity'] = df['Infirmity'].replace('none', 'None')\n",
    "# Assuming empty string is None\n",
    "df['Infirmity'] = df['Infirmity'].replace(' ', 'None')"
   ]
  },
  {
   "cell_type": "markdown",
   "id": "5936ea2c",
   "metadata": {},
   "source": [
    "# Cleaning of religion column"
   ]
  },
  {
   "cell_type": "code",
   "execution_count": 48,
   "id": "dab0b525",
   "metadata": {},
   "outputs": [
    {
     "data": {
      "text/plain": [
       "array(['Catholic', 'None', nan, 'Christian', 'Muslim', 'Jewish',\n",
       "       'Methodist', 'Sith', 'Sikh', 'Undecided', ' ', 'Buddist', 'Quaker',\n",
       "       'Hindu', 'Pagan', 'Nope', 'Housekeeper'], dtype=object)"
      ]
     },
     "execution_count": 48,
     "metadata": {},
     "output_type": "execute_result"
    }
   ],
   "source": [
    "df['Religion'].unique()"
   ]
  },
  {
   "cell_type": "code",
   "execution_count": 49,
   "id": "1a69ef88",
   "metadata": {},
   "outputs": [
    {
     "data": {
      "text/plain": [
       "0    None\n",
       "dtype: object"
      ]
     },
     "execution_count": 49,
     "metadata": {},
     "output_type": "execute_result"
    }
   ],
   "source": [
    "df['Religion'].mode()"
   ]
  },
  {
   "cell_type": "code",
   "execution_count": 50,
   "id": "8eff914b",
   "metadata": {},
   "outputs": [
    {
     "data": {
      "text/html": [
       "<div>\n",
       "<style scoped>\n",
       "    .dataframe tbody tr th:only-of-type {\n",
       "        vertical-align: middle;\n",
       "    }\n",
       "\n",
       "    .dataframe tbody tr th {\n",
       "        vertical-align: top;\n",
       "    }\n",
       "\n",
       "    .dataframe thead th {\n",
       "        text-align: right;\n",
       "    }\n",
       "</style>\n",
       "<table border=\"1\" class=\"dataframe\">\n",
       "  <thead>\n",
       "    <tr style=\"text-align: right;\">\n",
       "      <th></th>\n",
       "      <th>House Number</th>\n",
       "      <th>Street</th>\n",
       "      <th>First Name</th>\n",
       "      <th>Surname</th>\n",
       "      <th>Age</th>\n",
       "      <th>Relationship to Head of House</th>\n",
       "      <th>Marital Status</th>\n",
       "      <th>Gender</th>\n",
       "      <th>Occupation</th>\n",
       "      <th>Infirmity</th>\n",
       "      <th>Religion</th>\n",
       "    </tr>\n",
       "  </thead>\n",
       "  <tbody>\n",
       "    <tr>\n",
       "      <th>3030</th>\n",
       "      <td>4</td>\n",
       "      <td>Robinson Way</td>\n",
       "      <td>Debra</td>\n",
       "      <td>Lewis</td>\n",
       "      <td>40</td>\n",
       "      <td>Daughter</td>\n",
       "      <td>Single</td>\n",
       "      <td>Female</td>\n",
       "      <td>Mechanical engineer</td>\n",
       "      <td>None</td>\n",
       "      <td></td>\n",
       "    </tr>\n",
       "    <tr>\n",
       "      <th>5690</th>\n",
       "      <td>9</td>\n",
       "      <td>Johnson Light</td>\n",
       "      <td>Rachel</td>\n",
       "      <td>Hudson</td>\n",
       "      <td>13</td>\n",
       "      <td>Daughter</td>\n",
       "      <td>NA</td>\n",
       "      <td>Female</td>\n",
       "      <td>Student</td>\n",
       "      <td>None</td>\n",
       "      <td></td>\n",
       "    </tr>\n",
       "    <tr>\n",
       "      <th>5755</th>\n",
       "      <td>33</td>\n",
       "      <td>Johnson Light</td>\n",
       "      <td>Scott</td>\n",
       "      <td>Mason</td>\n",
       "      <td>14</td>\n",
       "      <td>Son</td>\n",
       "      <td>NA</td>\n",
       "      <td>Male</td>\n",
       "      <td>Student</td>\n",
       "      <td>None</td>\n",
       "      <td></td>\n",
       "    </tr>\n",
       "  </tbody>\n",
       "</table>\n",
       "</div>"
      ],
      "text/plain": [
       "     House Number         Street First Name Surname  Age  \\\n",
       "3030            4   Robinson Way      Debra   Lewis   40   \n",
       "5690            9  Johnson Light     Rachel  Hudson   13   \n",
       "5755           33  Johnson Light      Scott   Mason   14   \n",
       "\n",
       "     Relationship to Head of House Marital Status  Gender  \\\n",
       "3030                      Daughter         Single  Female   \n",
       "5690                      Daughter             NA  Female   \n",
       "5755                           Son             NA    Male   \n",
       "\n",
       "               Occupation Infirmity Religion  \n",
       "3030  Mechanical engineer      None           \n",
       "5690              Student      None           \n",
       "5755              Student      None           "
      ]
     },
     "execution_count": 50,
     "metadata": {},
     "output_type": "execute_result"
    }
   ],
   "source": [
    "df[df['Religion'] == ' ']"
   ]
  },
  {
   "cell_type": "code",
   "execution_count": 51,
   "id": "64c352fc",
   "metadata": {},
   "outputs": [],
   "source": [
    "# Replacement of unknown religion\n",
    "# Empty cells and unrecognised religions were replaced eith the mode value of religions; None.\n",
    "df['Religion'] = df['Religion'].replace(' ', 'None')\n",
    "df['Religion'] = df['Religion'].replace('Nope', 'None')\n",
    "df['Religion'] = df['Religion'].replace('Housekeeper', 'None')\n",
    "df['Religion'] = df['Religion'].replace('Nope', 'None')\n",
    "\n",
    "''' Religion of persons below the age of 18 were replaced with \"undecided\" because majority of them have not decided \n",
    "their religion\n",
    "at that age '''\n",
    "df.loc[df['Age'] < 18, 'Religion'] = 'Undecided'\n",
    "df['Religion'] = df['Religion'].fillna('None')"
   ]
  },
  {
   "cell_type": "markdown",
   "id": "42911766",
   "metadata": {},
   "source": [
    "# Data Visualization"
   ]
  },
  {
   "cell_type": "markdown",
   "id": "630875fa",
   "metadata": {},
   "source": [
    "## Classification of age into 5-years interval"
   ]
  },
  {
   "cell_type": "code",
   "execution_count": 52,
   "id": "71bd7bdb",
   "metadata": {},
   "outputs": [],
   "source": [
    "def age_classification(age):\n",
    "    if age >=  100:\n",
    "        return \"99 above\"\n",
    "    elif age >= 95 and age < 100: \n",
    "        return \"95 to 99\"\n",
    "    elif age >= 90 and age < 95: \n",
    "        return \"90 to 94\"\n",
    "    elif age >= 85  and age < 90: \n",
    "        return \"85 to 89\"\n",
    "    elif age >= 80 and age < 85: \n",
    "        return \"80 to 84\"\n",
    "    elif age >=75  and age < 80: \n",
    "        return \"75 to 79\"\n",
    "    elif age >= 70 and age < 75: \n",
    "        return \"70 to 74\"\n",
    "    elif age >= 65 and age < 70: \n",
    "        return \"65 to 69\"\n",
    "    elif age >= 60 and age < 65: \n",
    "        return \"60 to 64\"\n",
    "    elif age >= 55 and age < 60: \n",
    "        return \"55 to 59\"\n",
    "    elif age >= 50  and age < 55: \n",
    "        return \"50 to 54\"\n",
    "    elif age >= 45  and age < 50: \n",
    "        return \"45 to 49\"\n",
    "    elif age >= 40 and age < 45: \n",
    "        return \"40 to 44\"\n",
    "    elif age >= 35 and age < 40: \n",
    "        return \"35 to 39\"\n",
    "    elif age >= 30 and age < 35: \n",
    "        return \"30 to 34\"\n",
    "    elif age >= 25 and age < 30: \n",
    "        return \"25 to 29\"\n",
    "    elif age >= 20 and age < 25: \n",
    "        return \"20 to 24\"\n",
    "    elif age >= 15 and age < 20: \n",
    "        return \"15 to 19\"\n",
    "    elif age >= 10 and age < 15: \n",
    "        return \"10 to 14\"\n",
    "    elif age >= 5 and age < 9: \n",
    "        return \"05 to 9\"\n",
    "    elif age >= 0 and age < 5: \n",
    "        return \"0 to 4\""
   ]
  },
  {
   "cell_type": "code",
   "execution_count": 53,
   "id": "4912aceb",
   "metadata": {},
   "outputs": [],
   "source": [
    "df[\"Age_Classification\"] = df[\"Age\"].apply(lambda x :age_classification(x))"
   ]
  },
  {
   "cell_type": "code",
   "execution_count": 54,
   "id": "4396d17a",
   "metadata": {},
   "outputs": [
    {
     "data": {
      "text/html": [
       "<div>\n",
       "<style scoped>\n",
       "    .dataframe tbody tr th:only-of-type {\n",
       "        vertical-align: middle;\n",
       "    }\n",
       "\n",
       "    .dataframe tbody tr th {\n",
       "        vertical-align: top;\n",
       "    }\n",
       "\n",
       "    .dataframe thead th {\n",
       "        text-align: right;\n",
       "    }\n",
       "</style>\n",
       "<table border=\"1\" class=\"dataframe\">\n",
       "  <thead>\n",
       "    <tr style=\"text-align: right;\">\n",
       "      <th></th>\n",
       "      <th>Age_Classification</th>\n",
       "      <th>Gender</th>\n",
       "      <th>Gender Population</th>\n",
       "    </tr>\n",
       "  </thead>\n",
       "  <tbody>\n",
       "    <tr>\n",
       "      <th>0</th>\n",
       "      <td>0 to 4</td>\n",
       "      <td>Female</td>\n",
       "      <td>210</td>\n",
       "    </tr>\n",
       "    <tr>\n",
       "      <th>1</th>\n",
       "      <td>0 to 4</td>\n",
       "      <td>Male</td>\n",
       "      <td>208</td>\n",
       "    </tr>\n",
       "    <tr>\n",
       "      <th>2</th>\n",
       "      <td>05 to 9</td>\n",
       "      <td>Female</td>\n",
       "      <td>205</td>\n",
       "    </tr>\n",
       "    <tr>\n",
       "      <th>3</th>\n",
       "      <td>05 to 9</td>\n",
       "      <td>Male</td>\n",
       "      <td>260</td>\n",
       "    </tr>\n",
       "    <tr>\n",
       "      <th>4</th>\n",
       "      <td>10 to 14</td>\n",
       "      <td>Female</td>\n",
       "      <td>265</td>\n",
       "    </tr>\n",
       "    <tr>\n",
       "      <th>5</th>\n",
       "      <td>10 to 14</td>\n",
       "      <td>Male</td>\n",
       "      <td>276</td>\n",
       "    </tr>\n",
       "    <tr>\n",
       "      <th>6</th>\n",
       "      <td>15 to 19</td>\n",
       "      <td>Female</td>\n",
       "      <td>330</td>\n",
       "    </tr>\n",
       "    <tr>\n",
       "      <th>7</th>\n",
       "      <td>15 to 19</td>\n",
       "      <td>Male</td>\n",
       "      <td>303</td>\n",
       "    </tr>\n",
       "    <tr>\n",
       "      <th>8</th>\n",
       "      <td>20 to 24</td>\n",
       "      <td>Female</td>\n",
       "      <td>353</td>\n",
       "    </tr>\n",
       "    <tr>\n",
       "      <th>9</th>\n",
       "      <td>20 to 24</td>\n",
       "      <td>Male</td>\n",
       "      <td>283</td>\n",
       "    </tr>\n",
       "    <tr>\n",
       "      <th>10</th>\n",
       "      <td>25 to 29</td>\n",
       "      <td>Female</td>\n",
       "      <td>288</td>\n",
       "    </tr>\n",
       "    <tr>\n",
       "      <th>11</th>\n",
       "      <td>25 to 29</td>\n",
       "      <td>Male</td>\n",
       "      <td>256</td>\n",
       "    </tr>\n",
       "    <tr>\n",
       "      <th>12</th>\n",
       "      <td>30 to 34</td>\n",
       "      <td>Female</td>\n",
       "      <td>320</td>\n",
       "    </tr>\n",
       "    <tr>\n",
       "      <th>13</th>\n",
       "      <td>30 to 34</td>\n",
       "      <td>Male</td>\n",
       "      <td>277</td>\n",
       "    </tr>\n",
       "    <tr>\n",
       "      <th>14</th>\n",
       "      <td>35 to 39</td>\n",
       "      <td>Female</td>\n",
       "      <td>353</td>\n",
       "    </tr>\n",
       "    <tr>\n",
       "      <th>15</th>\n",
       "      <td>35 to 39</td>\n",
       "      <td>Male</td>\n",
       "      <td>317</td>\n",
       "    </tr>\n",
       "    <tr>\n",
       "      <th>16</th>\n",
       "      <td>40 to 44</td>\n",
       "      <td>Female</td>\n",
       "      <td>374</td>\n",
       "    </tr>\n",
       "    <tr>\n",
       "      <th>17</th>\n",
       "      <td>40 to 44</td>\n",
       "      <td>Male</td>\n",
       "      <td>296</td>\n",
       "    </tr>\n",
       "    <tr>\n",
       "      <th>18</th>\n",
       "      <td>45 to 49</td>\n",
       "      <td>Female</td>\n",
       "      <td>344</td>\n",
       "    </tr>\n",
       "    <tr>\n",
       "      <th>19</th>\n",
       "      <td>45 to 49</td>\n",
       "      <td>Male</td>\n",
       "      <td>286</td>\n",
       "    </tr>\n",
       "    <tr>\n",
       "      <th>20</th>\n",
       "      <td>50 to 54</td>\n",
       "      <td>Female</td>\n",
       "      <td>303</td>\n",
       "    </tr>\n",
       "    <tr>\n",
       "      <th>21</th>\n",
       "      <td>50 to 54</td>\n",
       "      <td>Male</td>\n",
       "      <td>235</td>\n",
       "    </tr>\n",
       "    <tr>\n",
       "      <th>22</th>\n",
       "      <td>55 to 59</td>\n",
       "      <td>Female</td>\n",
       "      <td>241</td>\n",
       "    </tr>\n",
       "    <tr>\n",
       "      <th>23</th>\n",
       "      <td>55 to 59</td>\n",
       "      <td>Male</td>\n",
       "      <td>216</td>\n",
       "    </tr>\n",
       "    <tr>\n",
       "      <th>24</th>\n",
       "      <td>60 to 64</td>\n",
       "      <td>Female</td>\n",
       "      <td>196</td>\n",
       "    </tr>\n",
       "    <tr>\n",
       "      <th>25</th>\n",
       "      <td>60 to 64</td>\n",
       "      <td>Male</td>\n",
       "      <td>198</td>\n",
       "    </tr>\n",
       "    <tr>\n",
       "      <th>26</th>\n",
       "      <td>65 to 69</td>\n",
       "      <td>Female</td>\n",
       "      <td>166</td>\n",
       "    </tr>\n",
       "    <tr>\n",
       "      <th>27</th>\n",
       "      <td>65 to 69</td>\n",
       "      <td>Male</td>\n",
       "      <td>145</td>\n",
       "    </tr>\n",
       "    <tr>\n",
       "      <th>28</th>\n",
       "      <td>70 to 74</td>\n",
       "      <td>Female</td>\n",
       "      <td>134</td>\n",
       "    </tr>\n",
       "    <tr>\n",
       "      <th>29</th>\n",
       "      <td>70 to 74</td>\n",
       "      <td>Male</td>\n",
       "      <td>115</td>\n",
       "    </tr>\n",
       "    <tr>\n",
       "      <th>30</th>\n",
       "      <td>75 to 79</td>\n",
       "      <td>Female</td>\n",
       "      <td>80</td>\n",
       "    </tr>\n",
       "    <tr>\n",
       "      <th>31</th>\n",
       "      <td>75 to 79</td>\n",
       "      <td>Male</td>\n",
       "      <td>75</td>\n",
       "    </tr>\n",
       "    <tr>\n",
       "      <th>32</th>\n",
       "      <td>80 to 84</td>\n",
       "      <td>Female</td>\n",
       "      <td>63</td>\n",
       "    </tr>\n",
       "    <tr>\n",
       "      <th>33</th>\n",
       "      <td>80 to 84</td>\n",
       "      <td>Male</td>\n",
       "      <td>64</td>\n",
       "    </tr>\n",
       "    <tr>\n",
       "      <th>34</th>\n",
       "      <td>85 to 89</td>\n",
       "      <td>Female</td>\n",
       "      <td>43</td>\n",
       "    </tr>\n",
       "    <tr>\n",
       "      <th>35</th>\n",
       "      <td>85 to 89</td>\n",
       "      <td>Male</td>\n",
       "      <td>34</td>\n",
       "    </tr>\n",
       "    <tr>\n",
       "      <th>36</th>\n",
       "      <td>90 to 94</td>\n",
       "      <td>Female</td>\n",
       "      <td>7</td>\n",
       "    </tr>\n",
       "    <tr>\n",
       "      <th>37</th>\n",
       "      <td>90 to 94</td>\n",
       "      <td>Male</td>\n",
       "      <td>15</td>\n",
       "    </tr>\n",
       "    <tr>\n",
       "      <th>38</th>\n",
       "      <td>95 to 99</td>\n",
       "      <td>Female</td>\n",
       "      <td>3</td>\n",
       "    </tr>\n",
       "    <tr>\n",
       "      <th>39</th>\n",
       "      <td>95 to 99</td>\n",
       "      <td>Male</td>\n",
       "      <td>10</td>\n",
       "    </tr>\n",
       "    <tr>\n",
       "      <th>40</th>\n",
       "      <td>99 above</td>\n",
       "      <td>Female</td>\n",
       "      <td>6</td>\n",
       "    </tr>\n",
       "    <tr>\n",
       "      <th>41</th>\n",
       "      <td>99 above</td>\n",
       "      <td>Male</td>\n",
       "      <td>9</td>\n",
       "    </tr>\n",
       "  </tbody>\n",
       "</table>\n",
       "</div>"
      ],
      "text/plain": [
       "   Age_Classification  Gender  Gender Population\n",
       "0              0 to 4  Female                210\n",
       "1              0 to 4    Male                208\n",
       "2             05 to 9  Female                205\n",
       "3             05 to 9    Male                260\n",
       "4            10 to 14  Female                265\n",
       "5            10 to 14    Male                276\n",
       "6            15 to 19  Female                330\n",
       "7            15 to 19    Male                303\n",
       "8            20 to 24  Female                353\n",
       "9            20 to 24    Male                283\n",
       "10           25 to 29  Female                288\n",
       "11           25 to 29    Male                256\n",
       "12           30 to 34  Female                320\n",
       "13           30 to 34    Male                277\n",
       "14           35 to 39  Female                353\n",
       "15           35 to 39    Male                317\n",
       "16           40 to 44  Female                374\n",
       "17           40 to 44    Male                296\n",
       "18           45 to 49  Female                344\n",
       "19           45 to 49    Male                286\n",
       "20           50 to 54  Female                303\n",
       "21           50 to 54    Male                235\n",
       "22           55 to 59  Female                241\n",
       "23           55 to 59    Male                216\n",
       "24           60 to 64  Female                196\n",
       "25           60 to 64    Male                198\n",
       "26           65 to 69  Female                166\n",
       "27           65 to 69    Male                145\n",
       "28           70 to 74  Female                134\n",
       "29           70 to 74    Male                115\n",
       "30           75 to 79  Female                 80\n",
       "31           75 to 79    Male                 75\n",
       "32           80 to 84  Female                 63\n",
       "33           80 to 84    Male                 64\n",
       "34           85 to 89  Female                 43\n",
       "35           85 to 89    Male                 34\n",
       "36           90 to 94  Female                  7\n",
       "37           90 to 94    Male                 15\n",
       "38           95 to 99  Female                  3\n",
       "39           95 to 99    Male                 10\n",
       "40           99 above  Female                  6\n",
       "41           99 above    Male                  9"
      ]
     },
     "execution_count": 54,
     "metadata": {},
     "output_type": "execute_result"
    }
   ],
   "source": [
    "df.groupby(['Age_Classification', 'Gender']).size().reset_index(name='Gender Population')"
   ]
  },
  {
   "cell_type": "code",
   "execution_count": 55,
   "id": "698204be",
   "metadata": {},
   "outputs": [],
   "source": [
    "NEW_DATAFRAME = pd.DataFrame({\"Age\": ['0 to 4',\"05 to 9\", \"10 to 14\", \"15 to 19\", '20 to 24',\"25 to 29\", \"30 to 34\", \"35 to 39\", \"40 to 44\", \n",
    "                                      '45 to 49',\"50 to 54\", \"55 to 59\", \"60 to 64\", '65 to 69',\"70 to 74\", \"75 to 79\", \"80 to 84\", \"85 to 89\", \n",
    "                                       \"90 to 94\", \"95 to 99\", \"99 above\"],\n",
    "                              \"Male\": [-208, -260, -276, -303, -283, -256, -277, -317, -296, -286, -235, -216, -198, -145, -115, -75, -64, -34, -15, -10, -9],\n",
    "                              \"Female\": [210, 205, 265, 330, 353, 288, 320, 353, 374, 344, 303, 241, 196, 166, 134, 80, 63, 43, 7, 3, 6]\n",
    "                             })\n",
    "Age_classes = ['99 above', '95 to 99', '90 to 94', '85 to 89', '80 to 84', '75 to 79', '70 to 74', '65 to 69', '60 to 64', '55 to 59', '50 to 54',\n",
    "               '45 to 49', '40 to 44', '35 to 39', '30 to 34', '25 to 29', '20 to 24', '15 to 19', '10 to 14', '05 to 9', '0 to 4']"
   ]
  },
  {
   "cell_type": "code",
   "execution_count": 56,
   "id": "7192926d",
   "metadata": {},
   "outputs": [],
   "source": [
    "# NEW_DATAFRAME , label='Female'"
   ]
  },
  {
   "cell_type": "code",
   "execution_count": 57,
   "id": "8f0741ab",
   "metadata": {
    "scrolled": true
   },
   "outputs": [
    {
     "name": "stderr",
     "output_type": "stream",
     "text": [
      "C:\\Users\\OYETAYO ADEDAMOLA\\AppData\\Local\\Programs\\Python\\Python39\\lib\\site-packages\\seaborn\\categorical.py:1604: MatplotlibDeprecationWarning: Case-insensitive properties were deprecated in 3.3 and support will be removed two minor releases later\n",
      "  barfunc(barpos, self.statistic, self.width,\n",
      "C:\\Users\\OYETAYO ADEDAMOLA\\AppData\\Local\\Programs\\Python\\Python39\\lib\\site-packages\\seaborn\\categorical.py:1604: MatplotlibDeprecationWarning: Case-insensitive properties were deprecated in 3.3 and support will be removed two minor releases later\n",
      "  barfunc(barpos, self.statistic, self.width,\n"
     ]
    },
    {
     "data": {
      "text/plain": [
       "[Text(0.5, 0, 'Population Count'), Text(0, 0.5, 'Age Group')]"
      ]
     },
     "execution_count": 57,
     "metadata": {},
     "output_type": "execute_result"
    },
    {
     "data": {
      "image/png": "[encoded data removed]",
      "text/plain": [
       "<Figure size 432x288 with 1 Axes>"
      ]
     },
     "metadata": {
      "needs_background": "light"
     },
     "output_type": "display_data"
    }
   ],
   "source": [
    "Ages_pyramid_plot = sns.barplot(x='Male', y='Age', data=NEW_DATAFRAME, order=Age_classes, Color=('black'), label='Male')\n",
    "\n",
    "Ages_pyramid_plot = sns.barplot(x='Female', y='Age', data=NEW_DATAFRAME, order=Age_classes, Color=('red'), label='Female')\n",
    "\n",
    "Ages_pyramid_plot.legend()\n",
    "plt.title('Age Pyramid')\n",
    "Ages_pyramid_plot.set(xlabel='Population Count', ylabel='Age Group')\n",
    "# sns.set(rc={'figure.figsize':(10,7)})\n"
   ]
  },
  {
   "cell_type": "markdown",
   "id": "ecb6b496",
   "metadata": {},
   "source": [
    "## Classification of occupation into diffrent categories & visualisation"
   ]
  },
  {
   "cell_type": "code",
   "execution_count": 58,
   "id": "57360c84",
   "metadata": {},
   "outputs": [],
   "source": [
    "def occupation_category(occupation):\n",
    "    if 'Student' in occupation:\n",
    "        return \"Student\"\n",
    "    elif occupation == 'Unemployed': \n",
    "        return 'Unemployed'\n",
    "    elif occupation.startswith('Retired'):\n",
    "        return 'Retired'\n",
    "    elif occupation == 'Child':\n",
    "        return \"Child\"\n",
    "    else: \n",
    "        return \"Employed\" "
   ]
  },
  {
   "cell_type": "code",
   "execution_count": 59,
   "id": "6c86c3a5",
   "metadata": {},
   "outputs": [],
   "source": [
    "df[\"Occupation_Classification\"] = df[\"Occupation\"].apply(lambda x :occupation_category(x))"
   ]
  },
  {
   "cell_type": "code",
   "execution_count": 60,
   "id": "0ccb1aa4",
   "metadata": {},
   "outputs": [
    {
     "data": {
      "text/plain": [
       "Occupation_Classification\n",
       "Child          418\n",
       "Employed      4472\n",
       "Retired        738\n",
       "Student       2126\n",
       "Unemployed     528\n",
       "dtype: int64"
      ]
     },
     "execution_count": 60,
     "metadata": {},
     "output_type": "execute_result"
    }
   ],
   "source": [
    "df.groupby(['Occupation_Classification']).size()"
   ]
  },
  {
   "cell_type": "code",
   "execution_count": 61,
   "id": "f26a649d",
   "metadata": {},
   "outputs": [
    {
     "data": {
      "image/png": "[encoded data removed]",
      "text/plain": [
       "<Figure size 432x288 with 1 Axes>"
      ]
     },
     "metadata": {
      "needs_background": "light"
     },
     "output_type": "display_data"
    }
   ],
   "source": [
    "OccupationandAge = sns.boxplot(y=\"Occupation_Classification\", x=\"Age\", data=df)"
   ]
  },
  {
   "cell_type": "markdown",
   "id": "e5de4aca",
   "metadata": {},
   "source": [
    "## Visualisation of Infirmity column"
   ]
  },
  {
   "cell_type": "code",
   "execution_count": 62,
   "id": "529f6902",
   "metadata": {
    "scrolled": true
   },
   "outputs": [
    {
     "data": {
      "text/plain": [
       "<seaborn.axisgrid.FacetGrid at 0x2957efe3e80>"
      ]
     },
     "execution_count": 62,
     "metadata": {},
     "output_type": "execute_result"
    },
    {
     "data": {
      "image/png": "[encoded data removed]",
      "text/plain": [
       "<Figure size 360x360 with 1 Axes>"
      ]
     },
     "metadata": {
      "needs_background": "light"
     },
     "output_type": "display_data"
    }
   ],
   "source": [
    "infirmity_plot = sns.displot(data=df, x='Infirmity')\n",
    "infirmity_plot.set_xticklabels(rotation=90)\n",
    "infirmity_plot"
   ]
  },
  {
   "cell_type": "markdown",
   "id": "24df7c0e",
   "metadata": {},
   "source": [
    "## Visualisation of Infirmity column"
   ]
  },
  {
   "cell_type": "code",
   "execution_count": 63,
   "id": "d8d07f93",
   "metadata": {
    "scrolled": true
   },
   "outputs": [
    {
     "data": {
      "image/png": "[encoded data removed]",
      "text/plain": [
       "<Figure size 432x288 with 1 Axes>"
      ]
     },
     "metadata": {
      "needs_background": "light"
     },
     "output_type": "display_data"
    }
   ],
   "source": [
    "ReligionandAge = sns.boxplot(y=\"Religion\", x=\"Age\", data=df)"
   ]
  },
  {
   "cell_type": "markdown",
   "id": "0a0145b8",
   "metadata": {},
   "source": [
    "## Visualization of marital status accross diffrent ages"
   ]
  },
  {
   "cell_type": "code",
   "execution_count": 64,
   "id": "ba11f091",
   "metadata": {},
   "outputs": [
    {
     "data": {
      "image/png": "[encoded data removed]",
      "text/plain": [
       "<Figure size 432x288 with 1 Axes>"
      ]
     },
     "metadata": {
      "needs_background": "light"
     },
     "output_type": "display_data"
    }
   ],
   "source": [
    "MaritalStatus_Age = sns.boxplot(y=\"Marital Status\", x=\"Age\", data=df)"
   ]
  },
  {
   "cell_type": "markdown",
   "id": "ad165960",
   "metadata": {},
   "source": [
    "## Visualisation of divorce rate"
   ]
  },
  {
   "cell_type": "code",
   "execution_count": 65,
   "id": "ebc96fb3",
   "metadata": {},
   "outputs": [
    {
     "data": {
      "text/plain": [
       "Age_Classification  Gender  Marital Status\n",
       "0 to 4              Female  NA                210\n",
       "                    Male    NA                208\n",
       "05 to 9             Female  NA                205\n",
       "                    Male    NA                260\n",
       "10 to 14            Female  NA                265\n",
       "                    Male    NA                276\n",
       "15 to 19            Female  Divorced           21\n",
       "                            Married            19\n",
       "                            NA                175\n",
       "                            Single            115\n",
       "                    Male    Divorced           20\n",
       "                            Married            14\n",
       "                            NA                165\n",
       "                            Single            100\n",
       "                            Widowed             4\n",
       "20 to 24            Female  Divorced           47\n",
       "                            Married            40\n",
       "                            Single            258\n",
       "                            Widowed             8\n",
       "                    Male    Divorced           46\n",
       "                            Married            41\n",
       "                            Single            192\n",
       "                            Widowed             4\n",
       "25 to 29            Female  Divorced           37\n",
       "                            Married            65\n",
       "                            Single            182\n",
       "                            Widowed             4\n",
       "                    Male    Divorced           37\n",
       "                            Married            43\n",
       "                            Single            173\n",
       "                            Widowed             3\n",
       "30 to 34            Female  Divorced           57\n",
       "                            Married            87\n",
       "                            Single            168\n",
       "                            Widowed             8\n",
       "                    Male    Divorced           33\n",
       "                            Married            87\n",
       "                            Single            148\n",
       "                            Widowed             9\n",
       "35 to 39            Female  Divorced           54\n",
       "                            Married           133\n",
       "                            Single            161\n",
       "                            Widowed             5\n",
       "                    Male    Divorced           34\n",
       "                            Married           109\n",
       "                            Single            172\n",
       "                            Widowed             2\n",
       "40 to 44            Female  Divorced           58\n",
       "                            Married           126\n",
       "                            Single            181\n",
       "                            Widowed             9\n",
       "                    Male    Divorced           28\n",
       "                            Married           131\n",
       "                            Single            133\n",
       "                            Widowed             4\n",
       "45 to 49            Female  Divorced           38\n",
       "                            Married           152\n",
       "                            Single            149\n",
       "                            Widowed             5\n",
       "                    Male    Divorced           25\n",
       "                            Married           143\n",
       "                            Single            116\n",
       "                            Widowed             2\n",
       "50 to 54            Female  Divorced           48\n",
       "                            Married           108\n",
       "                            Single            143\n",
       "                            Widowed             4\n",
       "                    Male    Divorced           18\n",
       "                            Married           114\n",
       "                            Single            101\n",
       "                            Widowed             2\n",
       "55 to 59            Female  Divorced           37\n",
       "                            Married            97\n",
       "                            Single            101\n",
       "                            Widowed             6\n",
       "                    Male    Divorced           11\n",
       "                            Married           103\n",
       "                            Single            101\n",
       "                            Widowed             1\n",
       "60 to 64            Female  Divorced           29\n",
       "                            Married            86\n",
       "                            Single             75\n",
       "                            Widowed             6\n",
       "                    Male    Divorced           18\n",
       "                            Married            91\n",
       "                            Single             88\n",
       "                            Widowed             1\n",
       "65 to 69            Female  Divorced           21\n",
       "                            Married            80\n",
       "                            Single             10\n",
       "                            Widowed            55\n",
       "                    Male    Divorced           12\n",
       "                            Married            89\n",
       "                            Single             13\n",
       "                            Widowed            31\n",
       "70 to 74            Female  Divorced           11\n",
       "                            Married            62\n",
       "                            Single             10\n",
       "                            Widowed            51\n",
       "                    Male    Divorced            9\n",
       "                            Married            69\n",
       "                            Single              6\n",
       "                            Widowed            31\n",
       "75 to 79            Female  Divorced           11\n",
       "                            Married            38\n",
       "                            Single              5\n",
       "                            Widowed            26\n",
       "                    Male    Divorced            9\n",
       "                            Married            46\n",
       "                            Single              2\n",
       "                            Widowed            18\n",
       "80 to 84            Female  Divorced            6\n",
       "                            Married            32\n",
       "                            Single              2\n",
       "                            Widowed            23\n",
       "                    Male    Divorced            5\n",
       "                            Married            44\n",
       "                            Single              3\n",
       "                            Widowed            12\n",
       "85 to 89            Female  Divorced            5\n",
       "                            Married            23\n",
       "                            Single              3\n",
       "                            Widowed            12\n",
       "                    Male    Divorced            5\n",
       "                            Married            19\n",
       "                            Single              1\n",
       "                            Widowed             9\n",
       "90 to 94            Female  Divorced            1\n",
       "                            Married             6\n",
       "                    Male    Divorced            2\n",
       "                            Married             8\n",
       "                            Single              1\n",
       "                            Widowed             4\n",
       "95 to 99            Female  Married             1\n",
       "                            Widowed             2\n",
       "                    Male    Divorced            1\n",
       "                            Married             6\n",
       "                            Single              1\n",
       "                            Widowed             2\n",
       "99 above            Female  Divorced            1\n",
       "                            Married             4\n",
       "                            Single              1\n",
       "                    Male    Divorced            2\n",
       "                            Married             4\n",
       "                            Single              1\n",
       "                            Widowed             2\n",
       "dtype: int64"
      ]
     },
     "execution_count": 65,
     "metadata": {},
     "output_type": "execute_result"
    }
   ],
   "source": [
    "df.groupby(['Age_Classification', 'Gender', 'Marital Status']).size()"
   ]
  },
  {
   "cell_type": "code",
   "execution_count": 66,
   "id": "85fc414e",
   "metadata": {},
   "outputs": [
    {
     "data": {
      "image/png": "[encoded data removed]",
      "text/plain": [
       "<Figure size 432x288 with 1 Axes>"
      ]
     },
     "metadata": {
      "needs_background": "light"
     },
     "output_type": "display_data"
    }
   ],
   "source": [
    "w=0.5\n",
    "x =[\"15 to 19\", '20 to 24',\"25 to 29\", \"30 to 34\", \"35 to 39\", \"40 to 44\", '45 to 49',\"50 to 54\", \"55 to 59\", \"60 to 64\"]\n",
    "Female_Divorced =  [21, 47, 37, 57, 54, 58, 38, 48, 37, 29]\n",
    "Male_Divorced =    [20, 46, 37, 33, 34, 28, 25, 18, 11, 18]\n",
    "bar1 = np.arange(len(x))\n",
    "bar2 = [i+w for i in bar1]\n",
    "plt.bar(bar1, Male_Divorced, w, label ='Male')\n",
    "plt.bar(bar2, Female_Divorced, w, label ='Female')\n",
    "plt.xlabel('Divorced accross various gender')\n",
    "plt.ylabel('Number of divorced')\n",
    "plt.xticks(bar1+0.25, x, rotation= 60)\n",
    "plt.title('Divorced Male and Female population')\n",
    "plt.legend()\n",
    "plt.show()"
   ]
  },
  {
   "cell_type": "markdown",
   "id": "38b8af14",
   "metadata": {},
   "source": [
    "## Visualisation of migration"
   ]
  },
  {
   "cell_type": "code",
   "execution_count": 67,
   "id": "93a5a517",
   "metadata": {},
   "outputs": [
    {
     "data": {
      "text/html": [
       "<div>\n",
       "<style scoped>\n",
       "    .dataframe tbody tr th:only-of-type {\n",
       "        vertical-align: middle;\n",
       "    }\n",
       "\n",
       "    .dataframe tbody tr th {\n",
       "        vertical-align: top;\n",
       "    }\n",
       "\n",
       "    .dataframe thead th {\n",
       "        text-align: right;\n",
       "    }\n",
       "</style>\n",
       "<table border=\"1\" class=\"dataframe\">\n",
       "  <thead>\n",
       "    <tr style=\"text-align: right;\">\n",
       "      <th></th>\n",
       "      <th>Age_Classification</th>\n",
       "      <th>Migration</th>\n",
       "    </tr>\n",
       "  </thead>\n",
       "  <tbody>\n",
       "    <tr>\n",
       "      <th>0</th>\n",
       "      <td>0 to 4</td>\n",
       "      <td>47.0</td>\n",
       "    </tr>\n",
       "    <tr>\n",
       "      <th>1</th>\n",
       "      <td>05 to 9</td>\n",
       "      <td>76.0</td>\n",
       "    </tr>\n",
       "    <tr>\n",
       "      <th>2</th>\n",
       "      <td>10 to 14</td>\n",
       "      <td>92.0</td>\n",
       "    </tr>\n",
       "    <tr>\n",
       "      <th>3</th>\n",
       "      <td>15 to 19</td>\n",
       "      <td>3.0</td>\n",
       "    </tr>\n",
       "    <tr>\n",
       "      <th>4</th>\n",
       "      <td>20 to 24</td>\n",
       "      <td>-92.0</td>\n",
       "    </tr>\n",
       "    <tr>\n",
       "      <th>5</th>\n",
       "      <td>25 to 29</td>\n",
       "      <td>53.0</td>\n",
       "    </tr>\n",
       "    <tr>\n",
       "      <th>6</th>\n",
       "      <td>30 to 34</td>\n",
       "      <td>73.0</td>\n",
       "    </tr>\n",
       "    <tr>\n",
       "      <th>7</th>\n",
       "      <td>35 to 39</td>\n",
       "      <td>0.0</td>\n",
       "    </tr>\n",
       "    <tr>\n",
       "      <th>8</th>\n",
       "      <td>40 to 44</td>\n",
       "      <td>-40.0</td>\n",
       "    </tr>\n",
       "    <tr>\n",
       "      <th>9</th>\n",
       "      <td>45 to 49</td>\n",
       "      <td>-92.0</td>\n",
       "    </tr>\n",
       "    <tr>\n",
       "      <th>10</th>\n",
       "      <td>50 to 54</td>\n",
       "      <td>-81.0</td>\n",
       "    </tr>\n",
       "    <tr>\n",
       "      <th>11</th>\n",
       "      <td>55 to 59</td>\n",
       "      <td>-63.0</td>\n",
       "    </tr>\n",
       "    <tr>\n",
       "      <th>12</th>\n",
       "      <td>60 to 64</td>\n",
       "      <td>-83.0</td>\n",
       "    </tr>\n",
       "    <tr>\n",
       "      <th>13</th>\n",
       "      <td>65 to 69</td>\n",
       "      <td>-62.0</td>\n",
       "    </tr>\n",
       "    <tr>\n",
       "      <th>14</th>\n",
       "      <td>70 to 74</td>\n",
       "      <td>-94.0</td>\n",
       "    </tr>\n",
       "    <tr>\n",
       "      <th>15</th>\n",
       "      <td>75 to 79</td>\n",
       "      <td>-28.0</td>\n",
       "    </tr>\n",
       "    <tr>\n",
       "      <th>16</th>\n",
       "      <td>80 to 84</td>\n",
       "      <td>-50.0</td>\n",
       "    </tr>\n",
       "    <tr>\n",
       "      <th>17</th>\n",
       "      <td>85 to 89</td>\n",
       "      <td>-55.0</td>\n",
       "    </tr>\n",
       "    <tr>\n",
       "      <th>18</th>\n",
       "      <td>90 to 94</td>\n",
       "      <td>-9.0</td>\n",
       "    </tr>\n",
       "    <tr>\n",
       "      <th>19</th>\n",
       "      <td>95 to 99</td>\n",
       "      <td>2.0</td>\n",
       "    </tr>\n",
       "    <tr>\n",
       "      <th>20</th>\n",
       "      <td>99 above</td>\n",
       "      <td>NaN</td>\n",
       "    </tr>\n",
       "  </tbody>\n",
       "</table>\n",
       "</div>"
      ],
      "text/plain": [
       "   Age_Classification  Migration\n",
       "0              0 to 4       47.0\n",
       "1             05 to 9       76.0\n",
       "2            10 to 14       92.0\n",
       "3            15 to 19        3.0\n",
       "4            20 to 24      -92.0\n",
       "5            25 to 29       53.0\n",
       "6            30 to 34       73.0\n",
       "7            35 to 39        0.0\n",
       "8            40 to 44      -40.0\n",
       "9            45 to 49      -92.0\n",
       "10           50 to 54      -81.0\n",
       "11           55 to 59      -63.0\n",
       "12           60 to 64      -83.0\n",
       "13           65 to 69      -62.0\n",
       "14           70 to 74      -94.0\n",
       "15           75 to 79      -28.0\n",
       "16           80 to 84      -50.0\n",
       "17           85 to 89      -55.0\n",
       "18           90 to 94       -9.0\n",
       "19           95 to 99        2.0\n",
       "20           99 above        NaN"
      ]
     },
     "execution_count": 67,
     "metadata": {},
     "output_type": "execute_result"
    }
   ],
   "source": [
    "AgeGroupsPopulation = df.groupby(['Age_Classification']).size().sort_index(ascending=True)\n",
    "AgeGroupsPopulationUp1Step = AgeGroupsPopulation.shift(-1)\n",
    "DiffrenceAcrossAgegroups = AgeGroupsPopulationUp1Step - AgeGroupsPopulation \n",
    "DiffrenceAcrossAgegroups.reset_index(name='Migration')"
   ]
  },
  {
   "cell_type": "code",
   "execution_count": 68,
   "id": "cce542b6",
   "metadata": {},
   "outputs": [
    {
     "data": {
      "image/png": "[encoded data removed]",
      "text/plain": [
       "<Figure size 432x288 with 1 Axes>"
      ]
     },
     "metadata": {
      "needs_background": "light"
     },
     "output_type": "display_data"
    }
   ],
   "source": [
    "\n",
    "w=0.8\n",
    "x =[\"15 to 19\", '20 to 24',\"25 to 29\", \"30 to 34\", \"35 to 39\", \"40 to 44\", '45 to 49', \"50 to 54\", \"55 to 59\", \"60 to 64\"]\n",
    "Migration = [3.0, -92.0, 53.0, 73.0, 0.0, -40.0, -92.0, -81.0, -63.0, -83.0]\n",
    "bar1 = np.arange(len(x))\n",
    "plt.bar(bar1, Migration, w, label ='+: Immigration, -: Emmigration')\n",
    "plt.xlabel('Grouping of Age by gender')\n",
    "plt.ylabel('Number at each age range')\n",
    "plt.xticks(bar1, x, rotation= 90)\n",
    "plt.title('Migration at 5 years interval')\n",
    "plt.legend()\n",
    "plt.show()"
   ]
  },
  {
   "cell_type": "code",
   "execution_count": 69,
   "id": "63df21b2",
   "metadata": {},
   "outputs": [
    {
     "data": {
      "text/plain": [
       "0    Single\n",
       "dtype: object"
      ]
     },
     "execution_count": 69,
     "metadata": {},
     "output_type": "execute_result"
    }
   ],
   "source": [
    "\n",
    "Age25to29 = df[(df['Age'] > 20) & (df['Age'] < 25)]\n",
    "Age25to29['Marital Status'].mode()\n"
   ]
  },
  {
   "cell_type": "code",
   "execution_count": 70,
   "id": "babe5b6e",
   "metadata": {},
   "outputs": [
    {
     "name": "stdout",
     "output_type": "stream",
     "text": [
      "Mode value of ages betwwen 30 and 34\n"
     ]
    },
    {
     "data": {
      "text/plain": [
       "0    Employed\n",
       "dtype: object"
      ]
     },
     "execution_count": 70,
     "metadata": {},
     "output_type": "execute_result"
    }
   ],
   "source": [
    "Age30to34 = df[(df['Age'] > 29) & (df['Age'] < 35)]\n",
    "print('Mode value of ages betwwen 30 and 34')\n",
    "Age30to34['Occupation_Classification'].mode()"
   ]
  },
  {
   "cell_type": "markdown",
   "id": "2cb62d58",
   "metadata": {},
   "source": [
    "# Analysis of Census Record"
   ]
  },
  {
   "cell_type": "markdown",
   "id": "fca306e4",
   "metadata": {},
   "source": [
    "## Crude Birth Rate"
   ]
  },
  {
   "cell_type": "markdown",
   "id": "06de3009",
   "metadata": {},
   "source": [
    "![alt text](crudebirthrate.png \"Title\")"
   ]
  },
  {
   "cell_type": "code",
   "execution_count": 71,
   "id": "83c3e0c6",
   "metadata": {},
   "outputs": [],
   "source": [
    "age0 = len(df[df['Age'] == 0])\n",
    "age4 = len(df[df['Age'] == 4])\n",
    "age8 = len(df[df['Age'] == 8])\n",
    "age12 = len(df[df['Age'] == 12])\n",
    "totalPopulation = len(df)"
   ]
  },
  {
   "cell_type": "code",
   "execution_count": 72,
   "id": "5bcdd5bd",
   "metadata": {},
   "outputs": [
    {
     "name": "stdout",
     "output_type": "stream",
     "text": [
      "Crude Birth Rate Per thousand = 8.814296063752716\n"
     ]
    }
   ],
   "source": [
    "CBR = (age0/totalPopulation) * 1000\n",
    "print(f'Crude Birth Rate Per thousand = {CBR}')"
   ]
  },
  {
   "cell_type": "code",
   "execution_count": 73,
   "id": "82369ef9",
   "metadata": {},
   "outputs": [
    {
     "name": "stdout",
     "output_type": "stream",
     "text": [
      "Crude Birth Rate Per thousand at age 4 = 11.712146824438541\n",
      "Crude Birth Rate Per thousand at age 8 = 13.644047331562424\n"
     ]
    }
   ],
   "source": [
    "CBR4 = (age4/totalPopulation) * 1000\n",
    "CBR8 = (age8/totalPopulation) * 1000\n",
    "CBR12 = (age12/totalPopulation) * 1000\n",
    "\n",
    "print(f'Crude Birth Rate Per thousand at age 4 = {CBR4}')\n",
    "print(f'Crude Birth Rate Per thousand at age 8 = {CBR8}')\n"
   ]
  },
  {
   "cell_type": "markdown",
   "id": "05bf6ec1",
   "metadata": {},
   "source": [
    "## Age specific Fertility rate"
   ]
  },
  {
   "cell_type": "markdown",
   "id": "defd6a04",
   "metadata": {},
   "source": [
    "![alt text](ASFR.png \"Title\")"
   ]
  },
  {
   "cell_type": "code",
   "execution_count": 74,
   "id": "be61afa6",
   "metadata": {},
   "outputs": [],
   "source": [
    "agebtw2529 = (df['Age'].between(25,29)) & (df['Gender'] == 'Female')\n",
    "agebtw3034 = (df['Age'].between(30,34)) & (df['Gender'] == 'Female')\n",
    "agebtw3539 = (df['Age'].between(35,39)) & (df['Gender'] == 'Female')\n",
    "agebtw4044 = (df['Age'].between(40,44)) & (df['Gender'] == 'Female')"
   ]
  },
  {
   "cell_type": "code",
   "execution_count": 75,
   "id": "94fa0821",
   "metadata": {},
   "outputs": [
    {
     "name": "stdout",
     "output_type": "stream",
     "text": [
      "ASFR 25-29 per 1000 253.4722222222222\n",
      "ASFR 30-34 per 1000 303.125\n",
      "ASFR 35-40 per 1000 302.13903743315507\n",
      "ASFR 40-44 per 1000 302.13903743315507\n"
     ]
    }
   ],
   "source": [
    "asfr25to29 = (age0/len(df[agebtw2529]))*1000\n",
    "asfr30to34 = (age4/len(df[agebtw3034]))*1000\n",
    "asfr35to39 = (age8/len(df[agebtw3539]))*1000\n",
    "asfr40to44 = (age8/len(df[agebtw4044]))*1000\n",
    "\n",
    "print(f\"ASFR 25-29 per 1000 {asfr25to29}\")\n",
    "print(f\"ASFR 30-34 per 1000 {asfr30to34}\")\n",
    "print(f\"ASFR 35-40 per 1000 {asfr40to44}\")\n",
    "print(f\"ASFR 40-44 per 1000 {asfr40to44}\")"
   ]
  },
  {
   "cell_type": "markdown",
   "id": "be6f01f8",
   "metadata": {},
   "source": [
    "## General fertility rate"
   ]
  },
  {
   "cell_type": "markdown",
   "id": "5932668d",
   "metadata": {},
   "source": [
    "![alt text](GFRL.png \"Title\")"
   ]
  },
  {
   "cell_type": "code",
   "execution_count": 76,
   "id": "2c555426",
   "metadata": {},
   "outputs": [
    {
     "name": "stdout",
     "output_type": "stream",
     "text": [
      "General Fertility Rate: 11.531031151895677\n"
     ]
    }
   ],
   "source": [
    "SumOfBirths = age0 + age4 + age8 + age12\n",
    "SumOfChildberaingWomen = len(agebtw2529)+ len(agebtw3034) + len(agebtw3539) + len(agebtw4044)\n",
    "\n",
    "GFR = (SumOfBirths/SumOfChildberaingWomen) * 1000\n",
    "\n",
    "print(f\"General Fertility Rate: {GFR}\")"
   ]
  },
  {
   "cell_type": "markdown",
   "id": "8a8f308f",
   "metadata": {},
   "source": [
    "## Crude Death Rate"
   ]
  },
  {
   "cell_type": "markdown",
   "id": "54fa00fe",
   "metadata": {},
   "source": [
    "![alt text](CDR.png \"Title\")"
   ]
  },
  {
   "cell_type": "code",
   "execution_count": 77,
   "id": "7169d40e",
   "metadata": {},
   "outputs": [],
   "source": [
    "# SizeOfAgesAbove66\n",
    "SizeOfAgesAbove66 = df[df['Age'].between(66,116)].groupby('Age').size().sort_index(ascending=False)"
   ]
  },
  {
   "cell_type": "code",
   "execution_count": 78,
   "id": "a7b2da5d",
   "metadata": {},
   "outputs": [],
   "source": [
    "# moving the size of ages up one step to enable diffrence between two age sizes to be calculated\n",
    "AgesUpOneStep = SizeOfAgesAbove66.shift(-1)"
   ]
  },
  {
   "cell_type": "code",
   "execution_count": 79,
   "id": "54923883",
   "metadata": {},
   "outputs": [],
   "source": [
    "# Diffrence between preceeding ages\n",
    "\n",
    "Difference = SizeOfAgesAbove66 - AgesUpOneStep\n",
    "\n",
    "# change it to a dataframe...\n",
    "\n",
    "Difference = Difference.reset_index(name='Count')\n",
    "\n",
    "# only interested in deaths - not emigration!! So we want minus counts only\n",
    "\n",
    "Mortality = Difference[Difference['Count'] < 0]\n",
    "# Mortality"
   ]
  },
  {
   "cell_type": "code",
   "execution_count": 80,
   "id": "8c68424c",
   "metadata": {},
   "outputs": [
    {
     "data": {
      "text/plain": [
       "14.972228930210093"
      ]
     },
     "execution_count": 80,
     "metadata": {},
     "output_type": "execute_result"
    }
   ],
   "source": [
    "DeathRate = abs(((Mortality['Count'])).sum()/totalPopulation)*1000\n",
    "DeathRate"
   ]
  },
  {
   "cell_type": "markdown",
   "id": "294614ab",
   "metadata": {},
   "source": [
    "## Crude Growth Rate"
   ]
  },
  {
   "cell_type": "markdown",
   "id": "36c71b74",
   "metadata": {},
   "source": [
    "![alt text](CGR.png \"Title\")"
   ]
  },
  {
   "cell_type": "code",
   "execution_count": 81,
   "id": "fda63c61",
   "metadata": {},
   "outputs": [
    {
     "name": "stdout",
     "output_type": "stream",
     "text": [
      "CGR -6.157932866457378\n",
      "CGR as Percentage -0.6157932866457377%\n"
     ]
    }
   ],
   "source": [
    "print(f\"CGR {CBR - DeathRate}\")\n",
    "print(f\"CGR as Percentage {(CBR - DeathRate)/10}%\")"
   ]
  },
  {
   "cell_type": "markdown",
   "id": "0cfbbfb0",
   "metadata": {},
   "source": [
    "## Population Change"
   ]
  },
  {
   "cell_type": "markdown",
   "id": "92b25d4e",
   "metadata": {},
   "source": [
    "![alt text](PopulationChange.png \"Title\")"
   ]
  },
  {
   "cell_type": "code",
   "execution_count": 82,
   "id": "b5aed02a",
   "metadata": {},
   "outputs": [],
   "source": [
    "# I assumed most migration will be between 18 and 65 years\n",
    "SizeOfAgesbtw18and66 = df[df['Age'].between(18,65)].groupby('Age').size().sort_index(ascending=False)"
   ]
  },
  {
   "cell_type": "code",
   "execution_count": 83,
   "id": "947bb047",
   "metadata": {},
   "outputs": [],
   "source": [
    "AgesOneStepUp = SizeOfAgesbtw18and66.shift(-1)"
   ]
  },
  {
   "cell_type": "code",
   "execution_count": 84,
   "id": "2688dca6",
   "metadata": {},
   "outputs": [],
   "source": [
    "# Diffrence between preceeding ages\n",
    "\n",
    "Difference = SizeOfAgesbtw18and66 - AgesOneStepUp\n",
    "\n",
    "# change it to a dataframe...\n",
    "\n",
    "Difference = Difference.reset_index(name='Count')\n",
    "# I assumed negative diffrence in population is Emigration and positive diffrence is migration\n",
    "Emmigration = Difference[Difference['Count'] < 0] \n",
    "Immigration = Difference[Difference['Count'] > 0]"
   ]
  },
  {
   "cell_type": "code",
   "execution_count": 85,
   "id": "5c556087",
   "metadata": {},
   "outputs": [
    {
     "data": {
      "text/plain": [
       "303.0"
      ]
     },
     "execution_count": 85,
     "metadata": {},
     "output_type": "execute_result"
    }
   ],
   "source": [
    "TotalEmmigration = abs(Emmigration['Count'].sum())\n",
    "TotalEmmigration"
   ]
  },
  {
   "cell_type": "code",
   "execution_count": 86,
   "id": "1ad98e7e",
   "metadata": {},
   "outputs": [
    {
     "data": {
      "text/plain": [
       "227.0"
      ]
     },
     "execution_count": 86,
     "metadata": {},
     "output_type": "execute_result"
    }
   ],
   "source": [
    "TotalImmigration = Immigration['Count'].sum()\n",
    "TotalImmigration"
   ]
  },
  {
   "cell_type": "code",
   "execution_count": 87,
   "id": "70bce73b",
   "metadata": {},
   "outputs": [
    {
     "data": {
      "text/plain": [
       "-82.1579328664574"
      ]
     },
     "execution_count": 87,
     "metadata": {},
     "output_type": "execute_result"
    }
   ],
   "source": [
    "PopulationChange = (CBR + TotalImmigration) - (DeathRate + TotalEmmigration)\n",
    "PopulationChange"
   ]
  },
  {
   "cell_type": "code",
   "execution_count": 88,
   "id": "f37dc32e",
   "metadata": {},
   "outputs": [],
   "source": [
    "occupancyrate = df.groupby(['House Number', 'Street']).size().reset_index(name='Occupancy Count')\n"
   ]
  },
  {
   "cell_type": "code",
   "execution_count": 89,
   "id": "8c19acf9",
   "metadata": {},
   "outputs": [
    {
     "data": {
      "text/plain": [
       "2.0"
      ]
     },
     "execution_count": 89,
     "metadata": {},
     "output_type": "execute_result"
    }
   ],
   "source": [
    "occupancyrate['Occupancy Count'].median()"
   ]
  },
  {
   "cell_type": "code",
   "execution_count": 90,
   "id": "d67ecb2b",
   "metadata": {},
   "outputs": [
    {
     "data": {
      "text/plain": [
       "1316"
      ]
     },
     "execution_count": 90,
     "metadata": {},
     "output_type": "execute_result"
    }
   ],
   "source": [
    "k = occupancyrate[occupancyrate['Occupancy Count'] > 2]\n",
    "len(k)"
   ]
  },
  {
   "cell_type": "code",
   "execution_count": 91,
   "id": "92321ad2",
   "metadata": {},
   "outputs": [],
   "source": [
    "dfMergeOccupancyrate = pd.merge(df,occupancyrate)"
   ]
  },
  {
   "cell_type": "code",
   "execution_count": 92,
   "id": "7241c7ed",
   "metadata": {},
   "outputs": [
    {
     "data": {
      "text/html": [
       "<div>\n",
       "<style scoped>\n",
       "    .dataframe tbody tr th:only-of-type {\n",
       "        vertical-align: middle;\n",
       "    }\n",
       "\n",
       "    .dataframe tbody tr th {\n",
       "        vertical-align: top;\n",
       "    }\n",
       "\n",
       "    .dataframe thead th {\n",
       "        text-align: right;\n",
       "    }\n",
       "</style>\n",
       "<table border=\"1\" class=\"dataframe\">\n",
       "  <thead>\n",
       "    <tr style=\"text-align: right;\">\n",
       "      <th></th>\n",
       "      <th>Occupancy Count</th>\n",
       "      <th>Age</th>\n",
       "    </tr>\n",
       "  </thead>\n",
       "  <tbody>\n",
       "    <tr>\n",
       "      <th>0</th>\n",
       "      <td>1</td>\n",
       "      <td>71</td>\n",
       "    </tr>\n",
       "    <tr>\n",
       "      <th>1</th>\n",
       "      <td>2</td>\n",
       "      <td>39</td>\n",
       "    </tr>\n",
       "    <tr>\n",
       "      <th>2</th>\n",
       "      <td>3</td>\n",
       "      <td>41</td>\n",
       "    </tr>\n",
       "    <tr>\n",
       "      <th>3</th>\n",
       "      <td>4</td>\n",
       "      <td>5</td>\n",
       "    </tr>\n",
       "    <tr>\n",
       "      <th>4</th>\n",
       "      <td>5</td>\n",
       "      <td>19</td>\n",
       "    </tr>\n",
       "    <tr>\n",
       "      <th>5</th>\n",
       "      <td>6</td>\n",
       "      <td>3</td>\n",
       "    </tr>\n",
       "    <tr>\n",
       "      <th>6</th>\n",
       "      <td>7</td>\n",
       "      <td>5</td>\n",
       "    </tr>\n",
       "    <tr>\n",
       "      <th>7</th>\n",
       "      <td>8</td>\n",
       "      <td>12</td>\n",
       "    </tr>\n",
       "    <tr>\n",
       "      <th>8</th>\n",
       "      <td>9</td>\n",
       "      <td>18</td>\n",
       "    </tr>\n",
       "    <tr>\n",
       "      <th>9</th>\n",
       "      <td>10</td>\n",
       "      <td>34</td>\n",
       "    </tr>\n",
       "    <tr>\n",
       "      <th>10</th>\n",
       "      <td>11</td>\n",
       "      <td>10</td>\n",
       "    </tr>\n",
       "    <tr>\n",
       "      <th>11</th>\n",
       "      <td>12</td>\n",
       "      <td>2</td>\n",
       "    </tr>\n",
       "    <tr>\n",
       "      <th>12</th>\n",
       "      <td>13</td>\n",
       "      <td>46</td>\n",
       "    </tr>\n",
       "    <tr>\n",
       "      <th>13</th>\n",
       "      <td>16</td>\n",
       "      <td>3</td>\n",
       "    </tr>\n",
       "    <tr>\n",
       "      <th>14</th>\n",
       "      <td>17</td>\n",
       "      <td>44</td>\n",
       "    </tr>\n",
       "    <tr>\n",
       "      <th>15</th>\n",
       "      <td>18</td>\n",
       "      <td>16</td>\n",
       "    </tr>\n",
       "    <tr>\n",
       "      <th>16</th>\n",
       "      <td>20</td>\n",
       "      <td>19</td>\n",
       "    </tr>\n",
       "    <tr>\n",
       "      <th>17</th>\n",
       "      <td>21</td>\n",
       "      <td>39</td>\n",
       "    </tr>\n",
       "  </tbody>\n",
       "</table>\n",
       "</div>"
      ],
      "text/plain": [
       "    Occupancy Count  Age\n",
       "0                 1   71\n",
       "1                 2   39\n",
       "2                 3   41\n",
       "3                 4    5\n",
       "4                 5   19\n",
       "5                 6    3\n",
       "6                 7    5\n",
       "7                 8   12\n",
       "8                 9   18\n",
       "9                10   34\n",
       "10               11   10\n",
       "11               12    2\n",
       "12               13   46\n",
       "13               16    3\n",
       "14               17   44\n",
       "15               18   16\n",
       "16               20   19\n",
       "17               21   39"
      ]
     },
     "execution_count": 92,
     "metadata": {},
     "output_type": "execute_result"
    }
   ],
   "source": [
    "dfMergeOccupancyrate.groupby(\"Occupancy Count\")[\"Age\"].apply(lambda x: mode(x)[0][0]).reset_index()"
   ]
  },
  {
   "cell_type": "code",
   "execution_count": null,
   "id": "94413e4f",
   "metadata": {},
   "outputs": [],
   "source": []
  },
  {
   "cell_type": "code",
   "execution_count": null,
   "id": "32df001d",
   "metadata": {},
   "outputs": [],
   "source": []
  }
 ],
 "metadata": {
  "kernelspec": {
   "display_name": "Python 3 (ipykernel)",
   "language": "python",
   "name": "python3"
  },
  "language_info": {
   "codemirror_mode": {
    "name": "ipython",
    "version": 3
   },
   "file_extension": ".py",
   "mimetype": "text/x-python",
   "name": "python",
   "nbconvert_exporter": "python",
   "pygments_lexer": "ipython3",
   "version": "3.9.7"
  }
 },
 "nbformat": 4,
 "nbformat_minor": 5
}
